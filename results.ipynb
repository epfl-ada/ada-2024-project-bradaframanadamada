{
 "cells": [
  {
   "cell_type": "code",
   "id": "9da77f30b12623f1",
   "metadata": {
    "ExecuteTime": {
     "end_time": "2024-11-15T15:06:09.994245Z",
     "start_time": "2024-11-15T15:06:09.954065Z"
    }
   },
   "source": [
    "%load_ext autoreload\n",
    "%autoreload 2"
   ],
   "outputs": [
    {
     "name": "stdout",
     "output_type": "stream",
     "text": [
      "The autoreload extension is already loaded. To reload it, use:\n",
      "  %reload_ext autoreload\n"
     ]
    }
   ],
   "execution_count": 109
  },
  {
   "cell_type": "code",
   "id": "34fe49b1",
   "metadata": {
    "ExecuteTime": {
     "end_time": "2024-11-15T15:06:13.306587Z",
     "start_time": "2024-11-15T15:06:10.157228Z"
    }
   },
   "source": [
    "# install the requirements\n",
    "!pip install -r pip_requirements.txt"
   ],
   "outputs": [
    {
     "name": "stdout",
     "output_type": "stream",
     "text": [
      "Requirement already satisfied: datasets==2.18.0 in /home/benjamin/miniconda3/envs/ada/lib/python3.11/site-packages (from -r pip_requirements.txt (line 1)) (2.18.0)\r\n",
      "Requirement already satisfied: transformers==4.39.3 in /home/benjamin/miniconda3/envs/ada/lib/python3.11/site-packages (from -r pip_requirements.txt (line 2)) (4.39.3)\r\n",
      "Requirement already satisfied: sentencepiece==0.2.0 in /home/benjamin/miniconda3/envs/ada/lib/python3.11/site-packages (from -r pip_requirements.txt (line 3)) (0.2.0)\r\n",
      "Requirement already satisfied: scipy==1.13.0 in /home/benjamin/miniconda3/envs/ada/lib/python3.11/site-packages (from -r pip_requirements.txt (line 4)) (1.13.0)\r\n",
      "Requirement already satisfied: matplotlib==3.8.4 in /home/benjamin/miniconda3/envs/ada/lib/python3.11/site-packages (from -r pip_requirements.txt (line 5)) (3.8.4)\r\n",
      "Requirement already satisfied: wandb==0.17.2 in /home/benjamin/miniconda3/envs/ada/lib/python3.11/site-packages (from -r pip_requirements.txt (line 6)) (0.17.2)\r\n",
      "Requirement already satisfied: numpy==2.1.3 in /home/benjamin/miniconda3/envs/ada/lib/python3.11/site-packages (from -r pip_requirements.txt (line 7)) (2.1.3)\r\n",
      "Requirement already satisfied: openai in /home/benjamin/miniconda3/envs/ada/lib/python3.11/site-packages (from -r pip_requirements.txt (line 8)) (1.54.4)\r\n",
      "Requirement already satisfied: pydantic in /home/benjamin/miniconda3/envs/ada/lib/python3.11/site-packages (from -r pip_requirements.txt (line 9)) (2.9.2)\r\n",
      "Requirement already satisfied: pandas==2.2.3 in /home/benjamin/miniconda3/envs/ada/lib/python3.11/site-packages (from -r pip_requirements.txt (line 10)) (2.2.3)\r\n",
      "Requirement already satisfied: SPARQLWrapper in /home/benjamin/miniconda3/envs/ada/lib/python3.11/site-packages (from -r pip_requirements.txt (line 12)) (2.0.0)\r\n",
      "Requirement already satisfied: filelock in /home/benjamin/miniconda3/envs/ada/lib/python3.11/site-packages (from datasets==2.18.0->-r pip_requirements.txt (line 1)) (3.13.1)\r\n",
      "Requirement already satisfied: pyarrow>=12.0.0 in /home/benjamin/miniconda3/envs/ada/lib/python3.11/site-packages (from datasets==2.18.0->-r pip_requirements.txt (line 1)) (18.0.0)\r\n",
      "Requirement already satisfied: pyarrow-hotfix in /home/benjamin/miniconda3/envs/ada/lib/python3.11/site-packages (from datasets==2.18.0->-r pip_requirements.txt (line 1)) (0.6)\r\n",
      "Requirement already satisfied: dill<0.3.9,>=0.3.0 in /home/benjamin/miniconda3/envs/ada/lib/python3.11/site-packages (from datasets==2.18.0->-r pip_requirements.txt (line 1)) (0.3.8)\r\n",
      "Requirement already satisfied: requests>=2.19.0 in /home/benjamin/miniconda3/envs/ada/lib/python3.11/site-packages (from datasets==2.18.0->-r pip_requirements.txt (line 1)) (2.32.3)\r\n",
      "Requirement already satisfied: tqdm>=4.62.1 in /home/benjamin/miniconda3/envs/ada/lib/python3.11/site-packages (from datasets==2.18.0->-r pip_requirements.txt (line 1)) (4.66.5)\r\n",
      "Requirement already satisfied: xxhash in /home/benjamin/miniconda3/envs/ada/lib/python3.11/site-packages (from datasets==2.18.0->-r pip_requirements.txt (line 1)) (3.5.0)\r\n",
      "Requirement already satisfied: multiprocess in /home/benjamin/miniconda3/envs/ada/lib/python3.11/site-packages (from datasets==2.18.0->-r pip_requirements.txt (line 1)) (0.70.16)\r\n",
      "Requirement already satisfied: fsspec<=2024.2.0,>=2023.1.0 in /home/benjamin/miniconda3/envs/ada/lib/python3.11/site-packages (from fsspec[http]<=2024.2.0,>=2023.1.0->datasets==2.18.0->-r pip_requirements.txt (line 1)) (2024.2.0)\r\n",
      "Requirement already satisfied: aiohttp in /home/benjamin/miniconda3/envs/ada/lib/python3.11/site-packages (from datasets==2.18.0->-r pip_requirements.txt (line 1)) (3.11.2)\r\n",
      "Requirement already satisfied: huggingface-hub>=0.19.4 in /home/benjamin/miniconda3/envs/ada/lib/python3.11/site-packages (from datasets==2.18.0->-r pip_requirements.txt (line 1)) (0.26.2)\r\n",
      "Requirement already satisfied: packaging in /home/benjamin/miniconda3/envs/ada/lib/python3.11/site-packages (from datasets==2.18.0->-r pip_requirements.txt (line 1)) (24.1)\r\n",
      "Requirement already satisfied: pyyaml>=5.1 in /home/benjamin/miniconda3/envs/ada/lib/python3.11/site-packages (from datasets==2.18.0->-r pip_requirements.txt (line 1)) (6.0.1)\r\n",
      "Requirement already satisfied: regex!=2019.12.17 in /home/benjamin/miniconda3/envs/ada/lib/python3.11/site-packages (from transformers==4.39.3->-r pip_requirements.txt (line 2)) (2024.9.11)\r\n",
      "Requirement already satisfied: tokenizers<0.19,>=0.14 in /home/benjamin/miniconda3/envs/ada/lib/python3.11/site-packages (from transformers==4.39.3->-r pip_requirements.txt (line 2)) (0.15.2)\r\n",
      "Requirement already satisfied: safetensors>=0.4.1 in /home/benjamin/miniconda3/envs/ada/lib/python3.11/site-packages (from transformers==4.39.3->-r pip_requirements.txt (line 2)) (0.4.5)\r\n",
      "Requirement already satisfied: contourpy>=1.0.1 in /home/benjamin/miniconda3/envs/ada/lib/python3.11/site-packages (from matplotlib==3.8.4->-r pip_requirements.txt (line 5)) (1.3.1)\r\n",
      "Requirement already satisfied: cycler>=0.10 in /home/benjamin/miniconda3/envs/ada/lib/python3.11/site-packages (from matplotlib==3.8.4->-r pip_requirements.txt (line 5)) (0.11.0)\r\n",
      "Requirement already satisfied: fonttools>=4.22.0 in /home/benjamin/miniconda3/envs/ada/lib/python3.11/site-packages (from matplotlib==3.8.4->-r pip_requirements.txt (line 5)) (4.51.0)\r\n",
      "Requirement already satisfied: kiwisolver>=1.3.1 in /home/benjamin/miniconda3/envs/ada/lib/python3.11/site-packages (from matplotlib==3.8.4->-r pip_requirements.txt (line 5)) (1.4.4)\r\n",
      "Requirement already satisfied: pillow>=8 in /home/benjamin/miniconda3/envs/ada/lib/python3.11/site-packages (from matplotlib==3.8.4->-r pip_requirements.txt (line 5)) (10.4.0)\r\n",
      "Requirement already satisfied: pyparsing>=2.3.1 in /home/benjamin/miniconda3/envs/ada/lib/python3.11/site-packages (from matplotlib==3.8.4->-r pip_requirements.txt (line 5)) (3.1.2)\r\n",
      "Requirement already satisfied: python-dateutil>=2.7 in /home/benjamin/miniconda3/envs/ada/lib/python3.11/site-packages (from matplotlib==3.8.4->-r pip_requirements.txt (line 5)) (2.9.0.post0)\r\n",
      "Requirement already satisfied: click!=8.0.0,>=7.1 in /home/benjamin/miniconda3/envs/ada/lib/python3.11/site-packages (from wandb==0.17.2->-r pip_requirements.txt (line 6)) (8.1.7)\r\n",
      "Requirement already satisfied: docker-pycreds>=0.4.0 in /home/benjamin/miniconda3/envs/ada/lib/python3.11/site-packages (from wandb==0.17.2->-r pip_requirements.txt (line 6)) (0.4.0)\r\n",
      "Requirement already satisfied: gitpython!=3.1.29,>=1.0.0 in /home/benjamin/miniconda3/envs/ada/lib/python3.11/site-packages (from wandb==0.17.2->-r pip_requirements.txt (line 6)) (3.1.43)\r\n",
      "Requirement already satisfied: platformdirs in /home/benjamin/miniconda3/envs/ada/lib/python3.11/site-packages (from wandb==0.17.2->-r pip_requirements.txt (line 6)) (3.10.0)\r\n",
      "Requirement already satisfied: protobuf!=4.21.0,<6,>=3.19.0 in /home/benjamin/miniconda3/envs/ada/lib/python3.11/site-packages (from wandb==0.17.2->-r pip_requirements.txt (line 6)) (5.28.3)\r\n",
      "Requirement already satisfied: psutil>=5.0.0 in /home/benjamin/miniconda3/envs/ada/lib/python3.11/site-packages (from wandb==0.17.2->-r pip_requirements.txt (line 6)) (5.9.0)\r\n",
      "Requirement already satisfied: sentry-sdk>=1.0.0 in /home/benjamin/miniconda3/envs/ada/lib/python3.11/site-packages (from wandb==0.17.2->-r pip_requirements.txt (line 6)) (2.18.0)\r\n",
      "Requirement already satisfied: setproctitle in /home/benjamin/miniconda3/envs/ada/lib/python3.11/site-packages (from wandb==0.17.2->-r pip_requirements.txt (line 6)) (1.3.3)\r\n",
      "Requirement already satisfied: setuptools in /home/benjamin/miniconda3/envs/ada/lib/python3.11/site-packages (from wandb==0.17.2->-r pip_requirements.txt (line 6)) (72.1.0)\r\n",
      "Requirement already satisfied: pytz>=2020.1 in /home/benjamin/miniconda3/envs/ada/lib/python3.11/site-packages (from pandas==2.2.3->-r pip_requirements.txt (line 10)) (2024.1)\r\n",
      "Requirement already satisfied: tzdata>=2022.7 in /home/benjamin/miniconda3/envs/ada/lib/python3.11/site-packages (from pandas==2.2.3->-r pip_requirements.txt (line 10)) (2023.3)\r\n",
      "Requirement already satisfied: anyio<5,>=3.5.0 in /home/benjamin/miniconda3/envs/ada/lib/python3.11/site-packages (from openai->-r pip_requirements.txt (line 8)) (4.2.0)\r\n",
      "Requirement already satisfied: distro<2,>=1.7.0 in /home/benjamin/miniconda3/envs/ada/lib/python3.11/site-packages (from openai->-r pip_requirements.txt (line 8)) (1.9.0)\r\n",
      "Requirement already satisfied: httpx<1,>=0.23.0 in /home/benjamin/miniconda3/envs/ada/lib/python3.11/site-packages (from openai->-r pip_requirements.txt (line 8)) (0.27.0)\r\n",
      "Requirement already satisfied: jiter<1,>=0.4.0 in /home/benjamin/miniconda3/envs/ada/lib/python3.11/site-packages (from openai->-r pip_requirements.txt (line 8)) (0.7.1)\r\n",
      "Requirement already satisfied: sniffio in /home/benjamin/miniconda3/envs/ada/lib/python3.11/site-packages (from openai->-r pip_requirements.txt (line 8)) (1.3.0)\r\n",
      "Requirement already satisfied: typing-extensions<5,>=4.11 in /home/benjamin/miniconda3/envs/ada/lib/python3.11/site-packages (from openai->-r pip_requirements.txt (line 8)) (4.11.0)\r\n",
      "Requirement already satisfied: annotated-types>=0.6.0 in /home/benjamin/miniconda3/envs/ada/lib/python3.11/site-packages (from pydantic->-r pip_requirements.txt (line 9)) (0.7.0)\r\n",
      "Requirement already satisfied: pydantic-core==2.23.4 in /home/benjamin/miniconda3/envs/ada/lib/python3.11/site-packages (from pydantic->-r pip_requirements.txt (line 9)) (2.23.4)\r\n",
      "Requirement already satisfied: rdflib>=6.1.1 in /home/benjamin/miniconda3/envs/ada/lib/python3.11/site-packages (from SPARQLWrapper->-r pip_requirements.txt (line 12)) (7.1.1)\r\n",
      "Requirement already satisfied: idna>=2.8 in /home/benjamin/miniconda3/envs/ada/lib/python3.11/site-packages (from anyio<5,>=3.5.0->openai->-r pip_requirements.txt (line 8)) (3.7)\r\n",
      "Requirement already satisfied: six>=1.4.0 in /home/benjamin/miniconda3/envs/ada/lib/python3.11/site-packages (from docker-pycreds>=0.4.0->wandb==0.17.2->-r pip_requirements.txt (line 6)) (1.16.0)\r\n",
      "Requirement already satisfied: aiohappyeyeballs>=2.3.0 in /home/benjamin/miniconda3/envs/ada/lib/python3.11/site-packages (from aiohttp->datasets==2.18.0->-r pip_requirements.txt (line 1)) (2.4.3)\r\n",
      "Requirement already satisfied: aiosignal>=1.1.2 in /home/benjamin/miniconda3/envs/ada/lib/python3.11/site-packages (from aiohttp->datasets==2.18.0->-r pip_requirements.txt (line 1)) (1.3.1)\r\n",
      "Requirement already satisfied: attrs>=17.3.0 in /home/benjamin/miniconda3/envs/ada/lib/python3.11/site-packages (from aiohttp->datasets==2.18.0->-r pip_requirements.txt (line 1)) (23.1.0)\r\n",
      "Requirement already satisfied: frozenlist>=1.1.1 in /home/benjamin/miniconda3/envs/ada/lib/python3.11/site-packages (from aiohttp->datasets==2.18.0->-r pip_requirements.txt (line 1)) (1.5.0)\r\n",
      "Requirement already satisfied: multidict<7.0,>=4.5 in /home/benjamin/miniconda3/envs/ada/lib/python3.11/site-packages (from aiohttp->datasets==2.18.0->-r pip_requirements.txt (line 1)) (6.1.0)\r\n",
      "Requirement already satisfied: propcache>=0.2.0 in /home/benjamin/miniconda3/envs/ada/lib/python3.11/site-packages (from aiohttp->datasets==2.18.0->-r pip_requirements.txt (line 1)) (0.2.0)\r\n",
      "Requirement already satisfied: yarl<2.0,>=1.17.0 in /home/benjamin/miniconda3/envs/ada/lib/python3.11/site-packages (from aiohttp->datasets==2.18.0->-r pip_requirements.txt (line 1)) (1.17.1)\r\n",
      "Requirement already satisfied: gitdb<5,>=4.0.1 in /home/benjamin/miniconda3/envs/ada/lib/python3.11/site-packages (from gitpython!=3.1.29,>=1.0.0->wandb==0.17.2->-r pip_requirements.txt (line 6)) (4.0.11)\r\n",
      "Requirement already satisfied: certifi in /home/benjamin/miniconda3/envs/ada/lib/python3.11/site-packages (from httpx<1,>=0.23.0->openai->-r pip_requirements.txt (line 8)) (2024.8.30)\r\n",
      "Requirement already satisfied: httpcore==1.* in /home/benjamin/miniconda3/envs/ada/lib/python3.11/site-packages (from httpx<1,>=0.23.0->openai->-r pip_requirements.txt (line 8)) (1.0.2)\r\n",
      "Requirement already satisfied: h11<0.15,>=0.13 in /home/benjamin/miniconda3/envs/ada/lib/python3.11/site-packages (from httpcore==1.*->httpx<1,>=0.23.0->openai->-r pip_requirements.txt (line 8)) (0.14.0)\r\n",
      "Requirement already satisfied: charset-normalizer<4,>=2 in /home/benjamin/miniconda3/envs/ada/lib/python3.11/site-packages (from requests>=2.19.0->datasets==2.18.0->-r pip_requirements.txt (line 1)) (3.3.2)\r\n",
      "Requirement already satisfied: urllib3<3,>=1.21.1 in /home/benjamin/miniconda3/envs/ada/lib/python3.11/site-packages (from requests>=2.19.0->datasets==2.18.0->-r pip_requirements.txt (line 1)) (2.2.2)\r\n",
      "Requirement already satisfied: smmap<6,>=3.0.1 in /home/benjamin/miniconda3/envs/ada/lib/python3.11/site-packages (from gitdb<5,>=4.0.1->gitpython!=3.1.29,>=1.0.0->wandb==0.17.2->-r pip_requirements.txt (line 6)) (5.0.1)\r\n"
     ]
    }
   ],
   "execution_count": 110
  },
  {
   "cell_type": "code",
   "id": "757894f09f835450",
   "metadata": {
    "ExecuteTime": {
     "end_time": "2024-11-15T15:06:13.481985Z",
     "start_time": "2024-11-15T15:06:13.453528Z"
    }
   },
   "source": [
    "import pandas as pd\n",
    "from collections import Counter\n",
    "import ast\n",
    "from src.scripts.cmu_scripts import *\n"
   ],
   "outputs": [],
   "execution_count": 111
  },
  {
   "metadata": {},
   "cell_type": "markdown",
   "source": [
    "# Cleaning the CMU dataset\n",
    "First of all, we need to pre-process the CMU dataset in order to have cleaned data to process."
   ],
   "id": "f7faca99bb177957"
  },
  {
   "metadata": {},
   "cell_type": "markdown",
   "source": "### Load the data",
   "id": "2d1704880bf81acc"
  },
  {
   "metadata": {
    "ExecuteTime": {
     "end_time": "2024-11-15T15:06:15.924088Z",
     "start_time": "2024-11-15T15:06:13.548115Z"
    }
   },
   "cell_type": "code",
   "source": [
    "# We begin by loading the data\n",
    "DATAPATH = \"src/data/\"\n",
    "movies_df = load_tsv(DATAPATH + \"movie.metadata.tsv\")\n",
    "characters_df = load_tsv(DATAPATH + \"character.metadata.tsv\")"
   ],
   "id": "7d90aca4077f2825",
   "outputs": [],
   "execution_count": 112
  },
  {
   "metadata": {},
   "cell_type": "markdown",
   "source": "### Filter and name",
   "id": "6f7e15e3392be5f3"
  },
  {
   "metadata": {},
   "cell_type": "markdown",
   "source": "We see that the Dataframes have a lot of columns which are not always useful. In addition, they do not have a name. So let's begin by giving a name to those columns and filtering those we do not need.",
   "id": "f3ea1958c81de7ca"
  },
  {
   "metadata": {
    "ExecuteTime": {
     "end_time": "2024-11-15T15:06:16.097260Z",
     "start_time": "2024-11-15T15:06:15.996108Z"
    }
   },
   "cell_type": "code",
   "source": [
    "# We name the columns and pick which ones we want\n",
    "movies_df, characters_df = name_and_filter_columns(movies_df, characters_df)"
   ],
   "id": "be9e20cba59dbe21",
   "outputs": [],
   "execution_count": 113
  },
  {
   "metadata": {},
   "cell_type": "markdown",
   "source": "It is really important to track the NaN values in the dataset, so let's print the info we have on each column.",
   "id": "7908b7fade59135b"
  },
  {
   "metadata": {
    "ExecuteTime": {
     "end_time": "2024-11-15T15:06:17.297914Z",
     "start_time": "2024-11-15T15:06:16.169911Z"
    }
   },
   "cell_type": "code",
   "source": [
    "# We print some info about NaNs\n",
    "plot_nan_values(movies_df, \"Nan of movies\")\n",
    "plt.show()\n",
    "print(\"________________________\")\n",
    "plot_nan_values(characters_df, \"Nan of characters\")\n",
    "plt.show()"
   ],
   "id": "6c10f1080911089b",
   "outputs": [
    {
     "name": "stdout",
     "output_type": "stream",
     "text": [
      "Total entries: 81741\n",
      "\n",
      "Freebase movie ID        0\n",
      "Movie name               0\n",
      "Movie release date    6902\n",
      "Movie countries          0\n",
      "Movie genres             0\n",
      "dtype: int64\n"
     ]
    },
    {
     "data": {
      "text/plain": [
       "<Figure size 1600x480 with 1 Axes>"
      ],
      "image/png": "[encoded data removed]"
     },
     "metadata": {},
     "output_type": "display_data"
    },
    {
     "name": "stdout",
     "output_type": "stream",
     "text": [
      "________________________\n",
      "Total entries: 450669\n",
      "\n",
      "Freebase movie ID                  0\n",
      "Character name                257875\n",
      "Actor date of birth           106145\n",
      "Actor gender                   45609\n",
      "Actor name                      1228\n",
      "Actor age at movie release    158113\n",
      "Freebase character ID         257865\n",
      "Freebase actor ID                815\n",
      "dtype: int64\n"
     ]
    },
    {
     "data": {
      "text/plain": [
       "<Figure size 1600x480 with 1 Axes>"
      ],
      "image/png": "[encoded data removed]"
     },
     "metadata": {},
     "output_type": "display_data"
    }
   ],
   "execution_count": 114
  },
  {
   "metadata": {},
   "cell_type": "markdown",
   "source": "Let's see also how is the data.",
   "id": "853a739a88f8727d"
  },
  {
   "metadata": {
    "ExecuteTime": {
     "end_time": "2024-11-15T15:06:17.391417Z",
     "start_time": "2024-11-15T15:06:17.361262Z"
    }
   },
   "cell_type": "code",
   "source": "movies_df.head()",
   "id": "3e3017973fd9f264",
   "outputs": [
    {
     "data": {
      "text/plain": [
       "  Freebase movie ID                                         Movie name  \\\n",
       "0         /m/03vyhn                                     Ghosts of Mars   \n",
       "1         /m/08yl5d  Getting Away with Murder: The JonBenét Ramsey ...   \n",
       "2        /m/0crgdbh                                        Brun bitter   \n",
       "3        /m/0285_cd                                   White Of The Eye   \n",
       "4         /m/01mrr1                                  A Woman in Flames   \n",
       "\n",
       "  Movie release date                            Movie countries  \\\n",
       "0         2001-08-24  {\"/m/09c7w0\": \"United States of America\"}   \n",
       "1         2000-02-16  {\"/m/09c7w0\": \"United States of America\"}   \n",
       "2               1988                     {\"/m/05b4w\": \"Norway\"}   \n",
       "3               1987             {\"/m/07ssc\": \"United Kingdom\"}   \n",
       "4               1983                    {\"/m/0345h\": \"Germany\"}   \n",
       "\n",
       "                                        Movie genres  \n",
       "0  {\"/m/01jfsb\": \"Thriller\", \"/m/06n90\": \"Science...  \n",
       "1  {\"/m/02n4kr\": \"Mystery\", \"/m/03bxz7\": \"Biograp...  \n",
       "2  {\"/m/0lsxr\": \"Crime Fiction\", \"/m/07s9rl0\": \"D...  \n",
       "3  {\"/m/01jfsb\": \"Thriller\", \"/m/0glj9q\": \"Erotic...  \n",
       "4                            {\"/m/07s9rl0\": \"Drama\"}  "
      ],
      "text/html": [
       "<div>\n",
       "<style scoped>\n",
       "    .dataframe tbody tr th:only-of-type {\n",
       "        vertical-align: middle;\n",
       "    }\n",
       "\n",
       "    .dataframe tbody tr th {\n",
       "        vertical-align: top;\n",
       "    }\n",
       "\n",
       "    .dataframe thead th {\n",
       "        text-align: right;\n",
       "    }\n",
       "</style>\n",
       "<table border=\"1\" class=\"dataframe\">\n",
       "  <thead>\n",
       "    <tr style=\"text-align: right;\">\n",
       "      <th></th>\n",
       "      <th>Freebase movie ID</th>\n",
       "      <th>Movie name</th>\n",
       "      <th>Movie release date</th>\n",
       "      <th>Movie countries</th>\n",
       "      <th>Movie genres</th>\n",
       "    </tr>\n",
       "  </thead>\n",
       "  <tbody>\n",
       "    <tr>\n",
       "      <th>0</th>\n",
       "      <td>/m/03vyhn</td>\n",
       "      <td>Ghosts of Mars</td>\n",
       "      <td>2001-08-24</td>\n",
       "      <td>{\"/m/09c7w0\": \"United States of America\"}</td>\n",
       "      <td>{\"/m/01jfsb\": \"Thriller\", \"/m/06n90\": \"Science...</td>\n",
       "    </tr>\n",
       "    <tr>\n",
       "      <th>1</th>\n",
       "      <td>/m/08yl5d</td>\n",
       "      <td>Getting Away with Murder: The JonBenét Ramsey ...</td>\n",
       "      <td>2000-02-16</td>\n",
       "      <td>{\"/m/09c7w0\": \"United States of America\"}</td>\n",
       "      <td>{\"/m/02n4kr\": \"Mystery\", \"/m/03bxz7\": \"Biograp...</td>\n",
       "    </tr>\n",
       "    <tr>\n",
       "      <th>2</th>\n",
       "      <td>/m/0crgdbh</td>\n",
       "      <td>Brun bitter</td>\n",
       "      <td>1988</td>\n",
       "      <td>{\"/m/05b4w\": \"Norway\"}</td>\n",
       "      <td>{\"/m/0lsxr\": \"Crime Fiction\", \"/m/07s9rl0\": \"D...</td>\n",
       "    </tr>\n",
       "    <tr>\n",
       "      <th>3</th>\n",
       "      <td>/m/0285_cd</td>\n",
       "      <td>White Of The Eye</td>\n",
       "      <td>1987</td>\n",
       "      <td>{\"/m/07ssc\": \"United Kingdom\"}</td>\n",
       "      <td>{\"/m/01jfsb\": \"Thriller\", \"/m/0glj9q\": \"Erotic...</td>\n",
       "    </tr>\n",
       "    <tr>\n",
       "      <th>4</th>\n",
       "      <td>/m/01mrr1</td>\n",
       "      <td>A Woman in Flames</td>\n",
       "      <td>1983</td>\n",
       "      <td>{\"/m/0345h\": \"Germany\"}</td>\n",
       "      <td>{\"/m/07s9rl0\": \"Drama\"}</td>\n",
       "    </tr>\n",
       "  </tbody>\n",
       "</table>\n",
       "</div>"
      ]
     },
     "execution_count": 115,
     "metadata": {},
     "output_type": "execute_result"
    }
   ],
   "execution_count": 115
  },
  {
   "metadata": {
    "ExecuteTime": {
     "end_time": "2024-11-15T15:06:17.557178Z",
     "start_time": "2024-11-15T15:06:17.518345Z"
    }
   },
   "cell_type": "code",
   "source": "characters_df.head()",
   "id": "ba0774a2c54e8b99",
   "outputs": [
    {
     "data": {
      "text/plain": [
       "  Freebase movie ID              Character name Actor date of birth  \\\n",
       "0         /m/03vyhn                    Akooshay          1958-08-26   \n",
       "1         /m/03vyhn  Lieutenant Melanie Ballard          1974-08-15   \n",
       "2         /m/03vyhn         Desolation Williams          1969-06-15   \n",
       "3         /m/03vyhn          Sgt Jericho Butler          1967-09-12   \n",
       "4         /m/03vyhn             Bashira Kincaid          1977-09-25   \n",
       "\n",
       "  Actor gender          Actor name  Actor age at movie release  \\\n",
       "0            F      Wanda De Jesus                        42.0   \n",
       "1            F  Natasha Henstridge                        27.0   \n",
       "2            M            Ice Cube                        32.0   \n",
       "3            M       Jason Statham                        33.0   \n",
       "4            F         Clea DuVall                        23.0   \n",
       "\n",
       "  Freebase character ID Freebase actor ID  \n",
       "0            /m/0bgcj3x        /m/03wcfv7  \n",
       "1            /m/0bgchn4         /m/0346l4  \n",
       "2            /m/0bgchn_        /m/01vw26l  \n",
       "3            /m/0bgchnq         /m/034hyc  \n",
       "4            /m/0bgchp9         /m/01y9xg  "
      ],
      "text/html": [
       "<div>\n",
       "<style scoped>\n",
       "    .dataframe tbody tr th:only-of-type {\n",
       "        vertical-align: middle;\n",
       "    }\n",
       "\n",
       "    .dataframe tbody tr th {\n",
       "        vertical-align: top;\n",
       "    }\n",
       "\n",
       "    .dataframe thead th {\n",
       "        text-align: right;\n",
       "    }\n",
       "</style>\n",
       "<table border=\"1\" class=\"dataframe\">\n",
       "  <thead>\n",
       "    <tr style=\"text-align: right;\">\n",
       "      <th></th>\n",
       "      <th>Freebase movie ID</th>\n",
       "      <th>Character name</th>\n",
       "      <th>Actor date of birth</th>\n",
       "      <th>Actor gender</th>\n",
       "      <th>Actor name</th>\n",
       "      <th>Actor age at movie release</th>\n",
       "      <th>Freebase character ID</th>\n",
       "      <th>Freebase actor ID</th>\n",
       "    </tr>\n",
       "  </thead>\n",
       "  <tbody>\n",
       "    <tr>\n",
       "      <th>0</th>\n",
       "      <td>/m/03vyhn</td>\n",
       "      <td>Akooshay</td>\n",
       "      <td>1958-08-26</td>\n",
       "      <td>F</td>\n",
       "      <td>Wanda De Jesus</td>\n",
       "      <td>42.0</td>\n",
       "      <td>/m/0bgcj3x</td>\n",
       "      <td>/m/03wcfv7</td>\n",
       "    </tr>\n",
       "    <tr>\n",
       "      <th>1</th>\n",
       "      <td>/m/03vyhn</td>\n",
       "      <td>Lieutenant Melanie Ballard</td>\n",
       "      <td>1974-08-15</td>\n",
       "      <td>F</td>\n",
       "      <td>Natasha Henstridge</td>\n",
       "      <td>27.0</td>\n",
       "      <td>/m/0bgchn4</td>\n",
       "      <td>/m/0346l4</td>\n",
       "    </tr>\n",
       "    <tr>\n",
       "      <th>2</th>\n",
       "      <td>/m/03vyhn</td>\n",
       "      <td>Desolation Williams</td>\n",
       "      <td>1969-06-15</td>\n",
       "      <td>M</td>\n",
       "      <td>Ice Cube</td>\n",
       "      <td>32.0</td>\n",
       "      <td>/m/0bgchn_</td>\n",
       "      <td>/m/01vw26l</td>\n",
       "    </tr>\n",
       "    <tr>\n",
       "      <th>3</th>\n",
       "      <td>/m/03vyhn</td>\n",
       "      <td>Sgt Jericho Butler</td>\n",
       "      <td>1967-09-12</td>\n",
       "      <td>M</td>\n",
       "      <td>Jason Statham</td>\n",
       "      <td>33.0</td>\n",
       "      <td>/m/0bgchnq</td>\n",
       "      <td>/m/034hyc</td>\n",
       "    </tr>\n",
       "    <tr>\n",
       "      <th>4</th>\n",
       "      <td>/m/03vyhn</td>\n",
       "      <td>Bashira Kincaid</td>\n",
       "      <td>1977-09-25</td>\n",
       "      <td>F</td>\n",
       "      <td>Clea DuVall</td>\n",
       "      <td>23.0</td>\n",
       "      <td>/m/0bgchp9</td>\n",
       "      <td>/m/01y9xg</td>\n",
       "    </tr>\n",
       "  </tbody>\n",
       "</table>\n",
       "</div>"
      ]
     },
     "execution_count": 116,
     "metadata": {},
     "output_type": "execute_result"
    }
   ],
   "execution_count": 116
  },
  {
   "metadata": {},
   "cell_type": "markdown",
   "source": [
    "#### Analyze\n",
    "We see that the data is OK, but there are some problems. Firstly, the Freebase IDs are obsolete, so we cannot retrieve any information from that. However, it can link the two tables and serve as an indices. We will therefor keep some. Secondly, the dates are awful. Somtimes in the format 'YYYY-MM-DD' sometimes 'YYYY' or NaN and always in string. Third, the actor age are float but we can consider it as int. Finally, the 'Movie countries' and 'Movie Genres' columns are stored as a \"string dict\" with a Freebase ID as an index. It cannot be used as this."
   ],
   "id": "30d2610b13ecf2b5"
  },
  {
   "metadata": {},
   "cell_type": "markdown",
   "source": "### Reformat and type fixing",
   "id": "28b1670ff963dcae"
  },
  {
   "metadata": {},
   "cell_type": "markdown",
   "source": "We saw that the 'Movie countries' and 'Movie genres' have a strange format. It includes a Freebase id and its real value. Let's fix this by converting the string dict to a list of the real values.",
   "id": "8864b03e0d356414"
  },
  {
   "metadata": {
    "ExecuteTime": {
     "end_time": "2024-11-15T15:06:21.081301Z",
     "start_time": "2024-11-15T15:06:17.667072Z"
    }
   },
   "cell_type": "code",
   "source": [
    "#We transform the movie genres and countries from a string dict to a list\n",
    "movies_df = refactor_movie_genres_countries(movies_df)\n",
    "movies_df[['Movie countries', 'Movie genres']].head()"
   ],
   "id": "55f2030848fbaa89",
   "outputs": [
    {
     "data": {
      "text/plain": [
       "              Movie countries  \\\n",
       "0  [United States of America]   \n",
       "1  [United States of America]   \n",
       "2                    [Norway]   \n",
       "3            [United Kingdom]   \n",
       "4                   [Germany]   \n",
       "\n",
       "                                        Movie genres  \n",
       "0  [Thriller, Science Fiction, Horror, Adventure,...  \n",
       "1   [Mystery, Biographical film, Drama, Crime Drama]  \n",
       "2                             [Crime Fiction, Drama]  \n",
       "3  [Thriller, Erotic thriller, Psychological thri...  \n",
       "4                                            [Drama]  "
      ],
      "text/html": [
       "<div>\n",
       "<style scoped>\n",
       "    .dataframe tbody tr th:only-of-type {\n",
       "        vertical-align: middle;\n",
       "    }\n",
       "\n",
       "    .dataframe tbody tr th {\n",
       "        vertical-align: top;\n",
       "    }\n",
       "\n",
       "    .dataframe thead th {\n",
       "        text-align: right;\n",
       "    }\n",
       "</style>\n",
       "<table border=\"1\" class=\"dataframe\">\n",
       "  <thead>\n",
       "    <tr style=\"text-align: right;\">\n",
       "      <th></th>\n",
       "      <th>Movie countries</th>\n",
       "      <th>Movie genres</th>\n",
       "    </tr>\n",
       "  </thead>\n",
       "  <tbody>\n",
       "    <tr>\n",
       "      <th>0</th>\n",
       "      <td>[United States of America]</td>\n",
       "      <td>[Thriller, Science Fiction, Horror, Adventure,...</td>\n",
       "    </tr>\n",
       "    <tr>\n",
       "      <th>1</th>\n",
       "      <td>[United States of America]</td>\n",
       "      <td>[Mystery, Biographical film, Drama, Crime Drama]</td>\n",
       "    </tr>\n",
       "    <tr>\n",
       "      <th>2</th>\n",
       "      <td>[Norway]</td>\n",
       "      <td>[Crime Fiction, Drama]</td>\n",
       "    </tr>\n",
       "    <tr>\n",
       "      <th>3</th>\n",
       "      <td>[United Kingdom]</td>\n",
       "      <td>[Thriller, Erotic thriller, Psychological thri...</td>\n",
       "    </tr>\n",
       "    <tr>\n",
       "      <th>4</th>\n",
       "      <td>[Germany]</td>\n",
       "      <td>[Drama]</td>\n",
       "    </tr>\n",
       "  </tbody>\n",
       "</table>\n",
       "</div>"
      ]
     },
     "execution_count": 117,
     "metadata": {},
     "output_type": "execute_result"
    }
   ],
   "execution_count": 117
  },
  {
   "metadata": {},
   "cell_type": "markdown",
   "source": "We also see that the dates do not all have the same format and have absurd values (like year 1000). Let's change this by taking only the year of the date,casting it to `int` and change all absurd values by NaN. (N.B. this may be tricky since these columns contains NaN values). ",
   "id": "20080624febe82c5"
  },
  {
   "metadata": {
    "ExecuteTime": {
     "end_time": "2024-11-15T15:06:21.342991Z",
     "start_time": "2024-11-15T15:06:21.206203Z"
    }
   },
   "cell_type": "code",
   "source": [
    "# We refactor the release date (take only the year and cast to int)\n",
    "movies_df = refactor_movie_release_date(movies_df)\n",
    "movies_df['Movie release date'].head()"
   ],
   "id": "e287d404e1b9e607",
   "outputs": [
    {
     "data": {
      "text/plain": [
       "0    2001\n",
       "1    2000\n",
       "2    1988\n",
       "3    1987\n",
       "4    1983\n",
       "Name: Movie release date, dtype: Int64"
      ]
     },
     "execution_count": 118,
     "metadata": {},
     "output_type": "execute_result"
    }
   ],
   "execution_count": 118
  },
  {
   "metadata": {
    "ExecuteTime": {
     "end_time": "2024-11-15T15:06:22.290088Z",
     "start_time": "2024-11-15T15:06:21.542657Z"
    }
   },
   "cell_type": "code",
   "source": [
    "# We do the same with the date of birth\n",
    "characters_df = refactor_actor_dob(characters_df)\n",
    "characters_df['Actor date of birth'].head()"
   ],
   "id": "a3487cbbc08e4ec3",
   "outputs": [
    {
     "data": {
      "text/plain": [
       "0    1958\n",
       "1    1974\n",
       "2    1969\n",
       "3    1967\n",
       "4    1977\n",
       "Name: Actor date of birth, dtype: Int64"
      ]
     },
     "execution_count": 119,
     "metadata": {},
     "output_type": "execute_result"
    }
   ],
   "execution_count": 119
  },
  {
   "metadata": {},
   "cell_type": "markdown",
   "source": "Then, we see that the 'Actor age at movie release' column is in float, while it logically must contain only integer values. We can just cast it.",
   "id": "f1d44b811f3b39cf"
  },
  {
   "metadata": {
    "ExecuteTime": {
     "end_time": "2024-11-15T15:06:22.471359Z",
     "start_time": "2024-11-15T15:06:22.440932Z"
    }
   },
   "cell_type": "code",
   "source": "print(type(characters_df['Actor age at movie release'][7]))",
   "id": "405da49028842ec9",
   "outputs": [
    {
     "name": "stdout",
     "output_type": "stream",
     "text": [
      "<class 'numpy.float64'>\n"
     ]
    }
   ],
   "execution_count": 120
  },
  {
   "metadata": {
    "ExecuteTime": {
     "end_time": "2024-11-15T15:06:22.837771Z",
     "start_time": "2024-11-15T15:06:22.679094Z"
    }
   },
   "cell_type": "code",
   "source": [
    "# We cast actor age to int\n",
    "characters_df['Actor age at movie release'] = characters_df['Actor age at movie release'].astype('Int64')\n",
    "characters_df.head()"
   ],
   "id": "17c7e304d9c49939",
   "outputs": [
    {
     "data": {
      "text/plain": [
       "  Freebase movie ID              Character name  Actor date of birth  \\\n",
       "0         /m/03vyhn                    Akooshay                 1958   \n",
       "1         /m/03vyhn  Lieutenant Melanie Ballard                 1974   \n",
       "2         /m/03vyhn         Desolation Williams                 1969   \n",
       "3         /m/03vyhn          Sgt Jericho Butler                 1967   \n",
       "4         /m/03vyhn             Bashira Kincaid                 1977   \n",
       "\n",
       "  Actor gender          Actor name  Actor age at movie release  \\\n",
       "0            F      Wanda De Jesus                          42   \n",
       "1            F  Natasha Henstridge                          27   \n",
       "2            M            Ice Cube                          32   \n",
       "3            M       Jason Statham                          33   \n",
       "4            F         Clea DuVall                          23   \n",
       "\n",
       "  Freebase character ID Freebase actor ID  \n",
       "0            /m/0bgcj3x        /m/03wcfv7  \n",
       "1            /m/0bgchn4         /m/0346l4  \n",
       "2            /m/0bgchn_        /m/01vw26l  \n",
       "3            /m/0bgchnq         /m/034hyc  \n",
       "4            /m/0bgchp9         /m/01y9xg  "
      ],
      "text/html": [
       "<div>\n",
       "<style scoped>\n",
       "    .dataframe tbody tr th:only-of-type {\n",
       "        vertical-align: middle;\n",
       "    }\n",
       "\n",
       "    .dataframe tbody tr th {\n",
       "        vertical-align: top;\n",
       "    }\n",
       "\n",
       "    .dataframe thead th {\n",
       "        text-align: right;\n",
       "    }\n",
       "</style>\n",
       "<table border=\"1\" class=\"dataframe\">\n",
       "  <thead>\n",
       "    <tr style=\"text-align: right;\">\n",
       "      <th></th>\n",
       "      <th>Freebase movie ID</th>\n",
       "      <th>Character name</th>\n",
       "      <th>Actor date of birth</th>\n",
       "      <th>Actor gender</th>\n",
       "      <th>Actor name</th>\n",
       "      <th>Actor age at movie release</th>\n",
       "      <th>Freebase character ID</th>\n",
       "      <th>Freebase actor ID</th>\n",
       "    </tr>\n",
       "  </thead>\n",
       "  <tbody>\n",
       "    <tr>\n",
       "      <th>0</th>\n",
       "      <td>/m/03vyhn</td>\n",
       "      <td>Akooshay</td>\n",
       "      <td>1958</td>\n",
       "      <td>F</td>\n",
       "      <td>Wanda De Jesus</td>\n",
       "      <td>42</td>\n",
       "      <td>/m/0bgcj3x</td>\n",
       "      <td>/m/03wcfv7</td>\n",
       "    </tr>\n",
       "    <tr>\n",
       "      <th>1</th>\n",
       "      <td>/m/03vyhn</td>\n",
       "      <td>Lieutenant Melanie Ballard</td>\n",
       "      <td>1974</td>\n",
       "      <td>F</td>\n",
       "      <td>Natasha Henstridge</td>\n",
       "      <td>27</td>\n",
       "      <td>/m/0bgchn4</td>\n",
       "      <td>/m/0346l4</td>\n",
       "    </tr>\n",
       "    <tr>\n",
       "      <th>2</th>\n",
       "      <td>/m/03vyhn</td>\n",
       "      <td>Desolation Williams</td>\n",
       "      <td>1969</td>\n",
       "      <td>M</td>\n",
       "      <td>Ice Cube</td>\n",
       "      <td>32</td>\n",
       "      <td>/m/0bgchn_</td>\n",
       "      <td>/m/01vw26l</td>\n",
       "    </tr>\n",
       "    <tr>\n",
       "      <th>3</th>\n",
       "      <td>/m/03vyhn</td>\n",
       "      <td>Sgt Jericho Butler</td>\n",
       "      <td>1967</td>\n",
       "      <td>M</td>\n",
       "      <td>Jason Statham</td>\n",
       "      <td>33</td>\n",
       "      <td>/m/0bgchnq</td>\n",
       "      <td>/m/034hyc</td>\n",
       "    </tr>\n",
       "    <tr>\n",
       "      <th>4</th>\n",
       "      <td>/m/03vyhn</td>\n",
       "      <td>Bashira Kincaid</td>\n",
       "      <td>1977</td>\n",
       "      <td>F</td>\n",
       "      <td>Clea DuVall</td>\n",
       "      <td>23</td>\n",
       "      <td>/m/0bgchp9</td>\n",
       "      <td>/m/01y9xg</td>\n",
       "    </tr>\n",
       "  </tbody>\n",
       "</table>\n",
       "</div>"
      ]
     },
     "execution_count": 121,
     "metadata": {},
     "output_type": "execute_result"
    }
   ],
   "execution_count": 121
  },
  {
   "metadata": {},
   "cell_type": "markdown",
   "source": [
    "### Joining the Dataframes\n",
    "Now that we have corrected the values, we can join the two Dataframes in order to have all information on one big Dataframe."
   ],
   "id": "12be518c7b245d95"
  },
  {
   "metadata": {
    "ExecuteTime": {
     "end_time": "2024-11-15T15:06:23.466017Z",
     "start_time": "2024-11-15T15:06:22.981989Z"
    }
   },
   "cell_type": "code",
   "source": [
    "# We join the two dataframes\n",
    "joined_df = characters_df.join(movies_df.set_index('Freebase movie ID'), on='Freebase movie ID', how='left')"
   ],
   "id": "ef65cbf20ad8ba0b",
   "outputs": [],
   "execution_count": 122
  },
  {
   "metadata": {
    "ExecuteTime": {
     "end_time": "2024-11-15T15:06:23.604747Z",
     "start_time": "2024-11-15T15:06:23.539819Z"
    }
   },
   "cell_type": "code",
   "source": "joined_df.head()",
   "id": "f9b9c98b5e607b05",
   "outputs": [
    {
     "data": {
      "text/plain": [
       "  Freebase movie ID              Character name  Actor date of birth  \\\n",
       "0         /m/03vyhn                    Akooshay                 1958   \n",
       "1         /m/03vyhn  Lieutenant Melanie Ballard                 1974   \n",
       "2         /m/03vyhn         Desolation Williams                 1969   \n",
       "3         /m/03vyhn          Sgt Jericho Butler                 1967   \n",
       "4         /m/03vyhn             Bashira Kincaid                 1977   \n",
       "\n",
       "  Actor gender          Actor name  Actor age at movie release  \\\n",
       "0            F      Wanda De Jesus                          42   \n",
       "1            F  Natasha Henstridge                          27   \n",
       "2            M            Ice Cube                          32   \n",
       "3            M       Jason Statham                          33   \n",
       "4            F         Clea DuVall                          23   \n",
       "\n",
       "  Freebase character ID Freebase actor ID      Movie name  Movie release date  \\\n",
       "0            /m/0bgcj3x        /m/03wcfv7  Ghosts of Mars                2001   \n",
       "1            /m/0bgchn4         /m/0346l4  Ghosts of Mars                2001   \n",
       "2            /m/0bgchn_        /m/01vw26l  Ghosts of Mars                2001   \n",
       "3            /m/0bgchnq         /m/034hyc  Ghosts of Mars                2001   \n",
       "4            /m/0bgchp9         /m/01y9xg  Ghosts of Mars                2001   \n",
       "\n",
       "              Movie countries  \\\n",
       "0  [United States of America]   \n",
       "1  [United States of America]   \n",
       "2  [United States of America]   \n",
       "3  [United States of America]   \n",
       "4  [United States of America]   \n",
       "\n",
       "                                        Movie genres  \n",
       "0  [Thriller, Science Fiction, Horror, Adventure,...  \n",
       "1  [Thriller, Science Fiction, Horror, Adventure,...  \n",
       "2  [Thriller, Science Fiction, Horror, Adventure,...  \n",
       "3  [Thriller, Science Fiction, Horror, Adventure,...  \n",
       "4  [Thriller, Science Fiction, Horror, Adventure,...  "
      ],
      "text/html": [
       "<div>\n",
       "<style scoped>\n",
       "    .dataframe tbody tr th:only-of-type {\n",
       "        vertical-align: middle;\n",
       "    }\n",
       "\n",
       "    .dataframe tbody tr th {\n",
       "        vertical-align: top;\n",
       "    }\n",
       "\n",
       "    .dataframe thead th {\n",
       "        text-align: right;\n",
       "    }\n",
       "</style>\n",
       "<table border=\"1\" class=\"dataframe\">\n",
       "  <thead>\n",
       "    <tr style=\"text-align: right;\">\n",
       "      <th></th>\n",
       "      <th>Freebase movie ID</th>\n",
       "      <th>Character name</th>\n",
       "      <th>Actor date of birth</th>\n",
       "      <th>Actor gender</th>\n",
       "      <th>Actor name</th>\n",
       "      <th>Actor age at movie release</th>\n",
       "      <th>Freebase character ID</th>\n",
       "      <th>Freebase actor ID</th>\n",
       "      <th>Movie name</th>\n",
       "      <th>Movie release date</th>\n",
       "      <th>Movie countries</th>\n",
       "      <th>Movie genres</th>\n",
       "    </tr>\n",
       "  </thead>\n",
       "  <tbody>\n",
       "    <tr>\n",
       "      <th>0</th>\n",
       "      <td>/m/03vyhn</td>\n",
       "      <td>Akooshay</td>\n",
       "      <td>1958</td>\n",
       "      <td>F</td>\n",
       "      <td>Wanda De Jesus</td>\n",
       "      <td>42</td>\n",
       "      <td>/m/0bgcj3x</td>\n",
       "      <td>/m/03wcfv7</td>\n",
       "      <td>Ghosts of Mars</td>\n",
       "      <td>2001</td>\n",
       "      <td>[United States of America]</td>\n",
       "      <td>[Thriller, Science Fiction, Horror, Adventure,...</td>\n",
       "    </tr>\n",
       "    <tr>\n",
       "      <th>1</th>\n",
       "      <td>/m/03vyhn</td>\n",
       "      <td>Lieutenant Melanie Ballard</td>\n",
       "      <td>1974</td>\n",
       "      <td>F</td>\n",
       "      <td>Natasha Henstridge</td>\n",
       "      <td>27</td>\n",
       "      <td>/m/0bgchn4</td>\n",
       "      <td>/m/0346l4</td>\n",
       "      <td>Ghosts of Mars</td>\n",
       "      <td>2001</td>\n",
       "      <td>[United States of America]</td>\n",
       "      <td>[Thriller, Science Fiction, Horror, Adventure,...</td>\n",
       "    </tr>\n",
       "    <tr>\n",
       "      <th>2</th>\n",
       "      <td>/m/03vyhn</td>\n",
       "      <td>Desolation Williams</td>\n",
       "      <td>1969</td>\n",
       "      <td>M</td>\n",
       "      <td>Ice Cube</td>\n",
       "      <td>32</td>\n",
       "      <td>/m/0bgchn_</td>\n",
       "      <td>/m/01vw26l</td>\n",
       "      <td>Ghosts of Mars</td>\n",
       "      <td>2001</td>\n",
       "      <td>[United States of America]</td>\n",
       "      <td>[Thriller, Science Fiction, Horror, Adventure,...</td>\n",
       "    </tr>\n",
       "    <tr>\n",
       "      <th>3</th>\n",
       "      <td>/m/03vyhn</td>\n",
       "      <td>Sgt Jericho Butler</td>\n",
       "      <td>1967</td>\n",
       "      <td>M</td>\n",
       "      <td>Jason Statham</td>\n",
       "      <td>33</td>\n",
       "      <td>/m/0bgchnq</td>\n",
       "      <td>/m/034hyc</td>\n",
       "      <td>Ghosts of Mars</td>\n",
       "      <td>2001</td>\n",
       "      <td>[United States of America]</td>\n",
       "      <td>[Thriller, Science Fiction, Horror, Adventure,...</td>\n",
       "    </tr>\n",
       "    <tr>\n",
       "      <th>4</th>\n",
       "      <td>/m/03vyhn</td>\n",
       "      <td>Bashira Kincaid</td>\n",
       "      <td>1977</td>\n",
       "      <td>F</td>\n",
       "      <td>Clea DuVall</td>\n",
       "      <td>23</td>\n",
       "      <td>/m/0bgchp9</td>\n",
       "      <td>/m/01y9xg</td>\n",
       "      <td>Ghosts of Mars</td>\n",
       "      <td>2001</td>\n",
       "      <td>[United States of America]</td>\n",
       "      <td>[Thriller, Science Fiction, Horror, Adventure,...</td>\n",
       "    </tr>\n",
       "  </tbody>\n",
       "</table>\n",
       "</div>"
      ]
     },
     "execution_count": 123,
     "metadata": {},
     "output_type": "execute_result"
    }
   ],
   "execution_count": 123
  },
  {
   "metadata": {
    "ExecuteTime": {
     "end_time": "2024-11-15T15:06:25.264789Z",
     "start_time": "2024-11-15T15:06:23.726584Z"
    }
   },
   "cell_type": "code",
   "source": [
    "plot_nan_values(joined_df, \"Nan of joined Dataframe before age completion\")\n",
    "plt.show()"
   ],
   "id": "9e08493e4a03a904",
   "outputs": [
    {
     "name": "stdout",
     "output_type": "stream",
     "text": [
      "Total entries: 450669\n",
      "\n",
      "Freebase movie ID                  0\n",
      "Character name                257875\n",
      "Actor date of birth           106170\n",
      "Actor gender                   45609\n",
      "Actor name                      1228\n",
      "Actor age at movie release    158113\n",
      "Freebase character ID         257865\n",
      "Freebase actor ID                815\n",
      "Movie name                         0\n",
      "Movie release date             10010\n",
      "Movie countries                    0\n",
      "Movie genres                       0\n",
      "dtype: int64\n"
     ]
    },
    {
     "data": {
      "text/plain": [
       "<Figure size 1600x480 with 1 Axes>"
      ],
      "image/png": "[encoded data removed]"
     },
     "metadata": {},
     "output_type": "display_data"
    }
   ],
   "execution_count": 124
  },
  {
   "metadata": {},
   "cell_type": "markdown",
   "source": "### Age completion",
   "id": "b014cf4a0aec3554"
  },
  {
   "metadata": {},
   "cell_type": "markdown",
   "source": [
    "A lot of ages at movie release are still missing. Since we know the date of birth and the movie release date, we can easily deduce the actor age at movie release. Let's do that.\n",
    "As we do not need the date of birth and the movie release date, we can just remove them."
   ],
   "id": "5bb2f916b78aa294"
  },
  {
   "metadata": {
    "ExecuteTime": {
     "end_time": "2024-11-15T15:06:27.099758Z",
     "start_time": "2024-11-15T15:06:25.349363Z"
    }
   },
   "cell_type": "code",
   "source": [
    "preprocessed_df = complete_age(joined_df)\n",
    "plot_nan_values(joined_df, \"Nan of joined Dataframe after age completion\")"
   ],
   "id": "dca816d71073a89f",
   "outputs": [
    {
     "name": "stdout",
     "output_type": "stream",
     "text": [
      "Total entries: 450669\n",
      "\n",
      "Freebase movie ID                  0\n",
      "Character name                257875\n",
      "Actor date of birth           106170\n",
      "Actor gender                   45609\n",
      "Actor name                      1228\n",
      "Actor age at movie release    115273\n",
      "Freebase character ID         257865\n",
      "Freebase actor ID                815\n",
      "Movie name                         0\n",
      "Movie release date             10010\n",
      "Movie countries                    0\n",
      "Movie genres                       0\n",
      "dtype: int64\n"
     ]
    },
    {
     "data": {
      "text/plain": [
       "<Figure size 1600x480 with 1 Axes>"
      ],
      "image/png": "[encoded data removed]"
     },
     "metadata": {},
     "output_type": "display_data"
    }
   ],
   "execution_count": 125
  },
  {
   "metadata": {},
   "cell_type": "markdown",
   "source": "(N.B. If we still need more data, we can complete the age of the actors by looking on another database like Wikidata)",
   "id": "e60f761b15245212"
  },
  {
   "cell_type": "markdown",
   "id": "31e517fb9ffcdae4",
   "metadata": {},
   "source": [
    "# Q1\n",
    "An important part of our project is to link actors with their career path. We defined the career path as a chronological list the personas of all characters he played.\n",
    "We can split this task in two steps:\n",
    "- link characters to their personas\n",
    "- link actor to their personas using the fact that the metadata contains character names.\n",
    "\n",
    "## link characters to their personas\n",
    "To do this, we extracted characters and their personas from the movies summaries. We did this using the ``gpt4o mini`` model, prompting it to extract characters and their personas of each summary. We currently only computed this for the first 9000 summaries of the ``plot_summaries.txt``, but the rest can be computed in 4 days (not doable faster than 10000 documents a day due to API limitations)."
   ]
  },
  {
   "cell_type": "code",
   "id": "acd82bbb4c3eede5",
   "metadata": {
    "ExecuteTime": {
     "end_time": "2024-11-15T15:06:27.206748Z",
     "start_time": "2024-11-15T15:06:27.121837Z"
    }
   },
   "source": [
    "pd.read_pickle('src/data/processed_data0-9000.pkl')"
   ],
   "outputs": [
    {
     "data": {
      "text/plain": [
       "                   name                                  persona  wikipedia_id\n",
       "0               Shlykov                            [the warrior]      23890098\n",
       "1                Lyosha                   [the rebel, the lover]      23890098\n",
       "0      Katniss Everdeen  [the warrior, the caregiver, the rebel]      31186339\n",
       "1         Peeta Mellark  [the lover, the caregiver, the seducer]      31186339\n",
       "2     Primrose Everdeen                  [the child, the orphan]      31186339\n",
       "..                  ...                                      ...           ...\n",
       "4   The Chief of Police                  [the ruler, the mentor]       6183117\n",
       "0        Noah Arkwright      [the rebel, the creator, the lover]      10572926\n",
       "1               Kirstin              [the caregiver, the mentor]      10572926\n",
       "2                   Ray               [the joker, the caregiver]      10572926\n",
       "3                Claire                              [the lover]      10572926\n",
       "\n",
       "[47902 rows x 3 columns]"
      ],
      "text/html": [
       "<div>\n",
       "<style scoped>\n",
       "    .dataframe tbody tr th:only-of-type {\n",
       "        vertical-align: middle;\n",
       "    }\n",
       "\n",
       "    .dataframe tbody tr th {\n",
       "        vertical-align: top;\n",
       "    }\n",
       "\n",
       "    .dataframe thead th {\n",
       "        text-align: right;\n",
       "    }\n",
       "</style>\n",
       "<table border=\"1\" class=\"dataframe\">\n",
       "  <thead>\n",
       "    <tr style=\"text-align: right;\">\n",
       "      <th></th>\n",
       "      <th>name</th>\n",
       "      <th>persona</th>\n",
       "      <th>wikipedia_id</th>\n",
       "    </tr>\n",
       "  </thead>\n",
       "  <tbody>\n",
       "    <tr>\n",
       "      <th>0</th>\n",
       "      <td>Shlykov</td>\n",
       "      <td>[the warrior]</td>\n",
       "      <td>23890098</td>\n",
       "    </tr>\n",
       "    <tr>\n",
       "      <th>1</th>\n",
       "      <td>Lyosha</td>\n",
       "      <td>[the rebel, the lover]</td>\n",
       "      <td>23890098</td>\n",
       "    </tr>\n",
       "    <tr>\n",
       "      <th>0</th>\n",
       "      <td>Katniss Everdeen</td>\n",
       "      <td>[the warrior, the caregiver, the rebel]</td>\n",
       "      <td>31186339</td>\n",
       "    </tr>\n",
       "    <tr>\n",
       "      <th>1</th>\n",
       "      <td>Peeta Mellark</td>\n",
       "      <td>[the lover, the caregiver, the seducer]</td>\n",
       "      <td>31186339</td>\n",
       "    </tr>\n",
       "    <tr>\n",
       "      <th>2</th>\n",
       "      <td>Primrose Everdeen</td>\n",
       "      <td>[the child, the orphan]</td>\n",
       "      <td>31186339</td>\n",
       "    </tr>\n",
       "    <tr>\n",
       "      <th>...</th>\n",
       "      <td>...</td>\n",
       "      <td>...</td>\n",
       "      <td>...</td>\n",
       "    </tr>\n",
       "    <tr>\n",
       "      <th>4</th>\n",
       "      <td>The Chief of Police</td>\n",
       "      <td>[the ruler, the mentor]</td>\n",
       "      <td>6183117</td>\n",
       "    </tr>\n",
       "    <tr>\n",
       "      <th>0</th>\n",
       "      <td>Noah Arkwright</td>\n",
       "      <td>[the rebel, the creator, the lover]</td>\n",
       "      <td>10572926</td>\n",
       "    </tr>\n",
       "    <tr>\n",
       "      <th>1</th>\n",
       "      <td>Kirstin</td>\n",
       "      <td>[the caregiver, the mentor]</td>\n",
       "      <td>10572926</td>\n",
       "    </tr>\n",
       "    <tr>\n",
       "      <th>2</th>\n",
       "      <td>Ray</td>\n",
       "      <td>[the joker, the caregiver]</td>\n",
       "      <td>10572926</td>\n",
       "    </tr>\n",
       "    <tr>\n",
       "      <th>3</th>\n",
       "      <td>Claire</td>\n",
       "      <td>[the lover]</td>\n",
       "      <td>10572926</td>\n",
       "    </tr>\n",
       "  </tbody>\n",
       "</table>\n",
       "<p>47902 rows × 3 columns</p>\n",
       "</div>"
      ]
     },
     "execution_count": 126,
     "metadata": {},
     "output_type": "execute_result"
    }
   ],
   "execution_count": 126
  },
  {
   "cell_type": "markdown",
   "id": "6a9fa29063a58b5b",
   "metadata": {},
   "source": [
    "then we can link the personas with the cator who played them using the character name and the wikipedia movie id."
   ]
  },
  {
   "cell_type": "code",
   "id": "153bcc321ed8eb54",
   "metadata": {
    "ExecuteTime": {
     "end_time": "2024-11-15T15:06:27.420613Z",
     "start_time": "2024-11-15T15:06:27.342871Z"
    }
   },
   "source": [
    "career_paths = pd.read_pickle('src/data/careers_paths.pkl')\n",
    "career_paths"
   ],
   "outputs": [
    {
     "data": {
      "text/plain": [
       "                                                     personas_list  \\\n",
       "actor_name                                                           \n",
       "A Martinez                             [[the mentor, the warrior]]   \n",
       "A. J. Cook       [[the lover], [the orphan, the caregiver, the ...   \n",
       "Aamir Khan               [[the rebel], [the rebel, the caregiver]]   \n",
       "Aaron Aziz                             [[the ruler, the magician]]   \n",
       "Aaron Eckhart    [[the detective, the caregiver], [the caregive...   \n",
       "...                                                            ...   \n",
       "Zoë Kravitz      [[the caregiver, the lover], [the caregiver, t...   \n",
       "Zsa Zsa Gábor    [[the caregiver, the creator], [the seducer, t...   \n",
       "Zuzana Fialová                                       [[the lover]]   \n",
       "Émilie Dequenne                        [[the warrior, the seeker]]   \n",
       "Íñigo Garcés                             [[the rebel, the orphan]]   \n",
       "\n",
       "                actor_age_during_movies             wikipedia_movies_id  \\\n",
       "actor_name                                                                \n",
       "A Martinez                       [62.0]                      [30231661]   \n",
       "A. J. Cook                 [22.0, 23.0]             [1376896, 12256764]   \n",
       "Aamir Khan                 [20.0, 25.0]              [8153108, 3322205]   \n",
       "Aaron Aziz                       [32.0]                      [16345566]   \n",
       "Aaron Eckhart        [32.0, 37.0, 43.0]   [1354757, 19189562, 12580152]   \n",
       "...                                 ...                             ...   \n",
       "Zoë Kravitz           [21.0, 21.0, nan]  [29545870, 29545870, 27686452]   \n",
       "Zsa Zsa Gábor               [75.0, nan]             [4832313, 10099627]   \n",
       "Zuzana Fialová                   [32.0]                      [18555435]   \n",
       "Émilie Dequenne                  [29.0]                      [27477193]   \n",
       "Íñigo Garcés                     [13.0]                       [5523710]   \n",
       "\n",
       "                freebase_actor_id  \n",
       "actor_name                         \n",
       "A Martinez             /m/025rrt9  \n",
       "A. J. Cook              /m/02zyvw  \n",
       "Aamir Khan              /m/015npr  \n",
       "Aaron Aziz             /m/0j9mvdl  \n",
       "Aaron Eckhart           /m/03t4cz  \n",
       "...                           ...  \n",
       "Zoë Kravitz            /m/03c144k  \n",
       "Zsa Zsa Gábor           /m/013ybx  \n",
       "Zuzana Fialová         /m/0cr7m2r  \n",
       "Émilie Dequenne         /m/063dwr  \n",
       "Íñigo Garcés           /m/0c09t3g  \n",
       "\n",
       "[5375 rows x 4 columns]"
      ],
      "text/html": [
       "<div>\n",
       "<style scoped>\n",
       "    .dataframe tbody tr th:only-of-type {\n",
       "        vertical-align: middle;\n",
       "    }\n",
       "\n",
       "    .dataframe tbody tr th {\n",
       "        vertical-align: top;\n",
       "    }\n",
       "\n",
       "    .dataframe thead th {\n",
       "        text-align: right;\n",
       "    }\n",
       "</style>\n",
       "<table border=\"1\" class=\"dataframe\">\n",
       "  <thead>\n",
       "    <tr style=\"text-align: right;\">\n",
       "      <th></th>\n",
       "      <th>personas_list</th>\n",
       "      <th>actor_age_during_movies</th>\n",
       "      <th>wikipedia_movies_id</th>\n",
       "      <th>freebase_actor_id</th>\n",
       "    </tr>\n",
       "    <tr>\n",
       "      <th>actor_name</th>\n",
       "      <th></th>\n",
       "      <th></th>\n",
       "      <th></th>\n",
       "      <th></th>\n",
       "    </tr>\n",
       "  </thead>\n",
       "  <tbody>\n",
       "    <tr>\n",
       "      <th>A Martinez</th>\n",
       "      <td>[[the mentor, the warrior]]</td>\n",
       "      <td>[62.0]</td>\n",
       "      <td>[30231661]</td>\n",
       "      <td>/m/025rrt9</td>\n",
       "    </tr>\n",
       "    <tr>\n",
       "      <th>A. J. Cook</th>\n",
       "      <td>[[the lover], [the orphan, the caregiver, the ...</td>\n",
       "      <td>[22.0, 23.0]</td>\n",
       "      <td>[1376896, 12256764]</td>\n",
       "      <td>/m/02zyvw</td>\n",
       "    </tr>\n",
       "    <tr>\n",
       "      <th>Aamir Khan</th>\n",
       "      <td>[[the rebel], [the rebel, the caregiver]]</td>\n",
       "      <td>[20.0, 25.0]</td>\n",
       "      <td>[8153108, 3322205]</td>\n",
       "      <td>/m/015npr</td>\n",
       "    </tr>\n",
       "    <tr>\n",
       "      <th>Aaron Aziz</th>\n",
       "      <td>[[the ruler, the magician]]</td>\n",
       "      <td>[32.0]</td>\n",
       "      <td>[16345566]</td>\n",
       "      <td>/m/0j9mvdl</td>\n",
       "    </tr>\n",
       "    <tr>\n",
       "      <th>Aaron Eckhart</th>\n",
       "      <td>[[the detective, the caregiver], [the caregive...</td>\n",
       "      <td>[32.0, 37.0, 43.0]</td>\n",
       "      <td>[1354757, 19189562, 12580152]</td>\n",
       "      <td>/m/03t4cz</td>\n",
       "    </tr>\n",
       "    <tr>\n",
       "      <th>...</th>\n",
       "      <td>...</td>\n",
       "      <td>...</td>\n",
       "      <td>...</td>\n",
       "      <td>...</td>\n",
       "    </tr>\n",
       "    <tr>\n",
       "      <th>Zoë Kravitz</th>\n",
       "      <td>[[the caregiver, the lover], [the caregiver, t...</td>\n",
       "      <td>[21.0, 21.0, nan]</td>\n",
       "      <td>[29545870, 29545870, 27686452]</td>\n",
       "      <td>/m/03c144k</td>\n",
       "    </tr>\n",
       "    <tr>\n",
       "      <th>Zsa Zsa Gábor</th>\n",
       "      <td>[[the caregiver, the creator], [the seducer, t...</td>\n",
       "      <td>[75.0, nan]</td>\n",
       "      <td>[4832313, 10099627]</td>\n",
       "      <td>/m/013ybx</td>\n",
       "    </tr>\n",
       "    <tr>\n",
       "      <th>Zuzana Fialová</th>\n",
       "      <td>[[the lover]]</td>\n",
       "      <td>[32.0]</td>\n",
       "      <td>[18555435]</td>\n",
       "      <td>/m/0cr7m2r</td>\n",
       "    </tr>\n",
       "    <tr>\n",
       "      <th>Émilie Dequenne</th>\n",
       "      <td>[[the warrior, the seeker]]</td>\n",
       "      <td>[29.0]</td>\n",
       "      <td>[27477193]</td>\n",
       "      <td>/m/063dwr</td>\n",
       "    </tr>\n",
       "    <tr>\n",
       "      <th>Íñigo Garcés</th>\n",
       "      <td>[[the rebel, the orphan]]</td>\n",
       "      <td>[13.0]</td>\n",
       "      <td>[5523710]</td>\n",
       "      <td>/m/0c09t3g</td>\n",
       "    </tr>\n",
       "  </tbody>\n",
       "</table>\n",
       "<p>5375 rows × 4 columns</p>\n",
       "</div>"
      ]
     },
     "execution_count": 127,
     "metadata": {},
     "output_type": "execute_result"
    }
   ],
   "execution_count": 127
  },
  {
   "cell_type": "code",
   "id": "abf145c394fe9566",
   "metadata": {
    "ExecuteTime": {
     "end_time": "2024-11-15T15:06:27.589580Z",
     "start_time": "2024-11-15T15:06:27.562483Z"
    }
   },
   "source": [
    "#career path example\n",
    "path_example = career_paths[career_paths.index=='Harrison Ford']"
   ],
   "outputs": [],
   "execution_count": 128
  },
  {
   "cell_type": "code",
   "id": "c3c081d5232671b2",
   "metadata": {
    "ExecuteTime": {
     "end_time": "2024-11-15T15:06:28.581585Z",
     "start_time": "2024-11-15T15:06:27.746633Z"
    }
   },
   "source": [
    "# visualise the path as personas played given the actor age\n",
    "import matplotlib.pyplot as plt\n",
    "\n",
    "# Data\n",
    "personas = path_example['personas_list'].item()\n",
    "ages = path_example['actor_age_during_movies'].item()\n",
    "\n",
    "# Flatten data into persona-age pairs for easier plotting\n",
    "persona_age_pairs = [(age, persona) for age, persona_list in zip(ages, personas) for persona in persona_list]\n",
    "\n",
    "# Unique personas for color mapping\n",
    "unique_personas = list(set(persona for _, persona in persona_age_pairs))\n",
    "\n",
    "# Color mapping for personas\n",
    "color_map = {persona: plt.cm.tab20(i) for i, persona in enumerate(unique_personas)}\n",
    "\n",
    "# Plotting\n",
    "plt.figure(figsize=(12, 6))\n",
    "for age, persona in persona_age_pairs:\n",
    "    plt.scatter(age, unique_personas.index(persona), color=color_map[persona], label=persona, s=100, edgecolor=\"black\")\n",
    "\n",
    "# Axis setup\n",
    "plt.yticks(range(len(unique_personas)), unique_personas)\n",
    "plt.xlabel(\"Age of Harrison Ford\")\n",
    "plt.title(\"Evolution of Harrison Ford's Personas by Age\")\n",
    "\n",
    "# Legend\n",
    "handles, labels = plt.gca().get_legend_handles_labels()\n",
    "by_label = dict(zip(labels, handles))  # Remove duplicate labels in legend\n",
    "plt.legend(by_label.values(), by_label.keys(), bbox_to_anchor=(1.05, 1), loc='upper left')\n",
    "\n",
    "plt.tight_layout()\n",
    "plt.show()"
   ],
   "outputs": [
    {
     "data": {
      "text/plain": [
       "<Figure size 1200x600 with 1 Axes>"
      ],
      "image/png": "[encoded data removed]"
     },
     "metadata": {},
     "output_type": "display_data"
    }
   ],
   "execution_count": 129
  },
  {
   "cell_type": "markdown",
   "id": "a52c301f",
   "metadata": {},
   "source": [
    "# Extract informations on the actors and on the characters\n",
    "\n",
    "We firstly extracted all the information needed (actor name, character name, freebase actor id, freebase character id) frm the character's metadata of the CMU dataset."
   ]
  },
  {
   "cell_type": "code",
   "id": "8e62c279",
   "metadata": {
    "ExecuteTime": {
     "end_time": "2024-11-15T15:06:28.729298Z",
     "start_time": "2024-11-15T15:06:28.655438Z"
    }
   },
   "source": [
    "# select the relevant columns\n",
    "df_character_usefull = preprocessed_df[['Character name', 'Actor name', 'Freebase character ID', 'Freebase actor ID']]"
   ],
   "outputs": [],
   "execution_count": 130
  },
  {
   "cell_type": "markdown",
   "id": "1fb69d85",
   "metadata": {},
   "source": [
    "We fisrtly create a util `wikidata_ID_retriever` for trying to get a wikidata ID from a freebase ID. Since all the freebase ID are not necessary present in the wikidata dataset."
   ]
  },
  {
   "cell_type": "code",
   "id": "83f2b458",
   "metadata": {
    "ExecuteTime": {
     "end_time": "2024-11-15T15:06:29.798222Z",
     "start_time": "2024-11-15T15:06:28.737770Z"
    }
   },
   "source": [
    "# import the util class to convert wikidata ID to freebase ID.\n",
    "from src.utils.wikidata_ID_retriever import WikidataIDRetriever\n",
    "\n",
    "wikidataIDRetriever = WikidataIDRetriever()\n",
    "# freebase ID to test\n",
    "freebaseID = '/m/0c0k1'\n",
    "# wikidata ID retrive\n",
    "wikiDataID = wikidataIDRetriever.retrieve_wikidata_ID(freebaseID)\n",
    "wikiDataID"
   ],
   "outputs": [
    {
     "data": {
      "text/plain": [
       "'Q81328'"
      ]
     },
     "execution_count": 131,
     "metadata": {},
     "output_type": "execute_result"
    }
   ],
   "execution_count": 131
  },
  {
   "cell_type": "markdown",
   "id": "a4e4121d",
   "metadata": {},
   "source": [
    "Then we create a util `wikidata_actor_loader`to retrieve all the actors information if an actor is present on the wikidata dataset with his freebase ID defined. "
   ]
  },
  {
   "cell_type": "code",
   "id": "c31dcdf9",
   "metadata": {
    "ExecuteTime": {
     "end_time": "2024-11-15T15:06:30.629923Z",
     "start_time": "2024-11-15T15:06:29.879399Z"
    }
   },
   "source": [
    "# extract the list of actor's freebase id and drop the duplicates\n",
    "actor_freebase_id = df_character_usefull['Freebase actor ID'].drop_duplicates()\n",
    "print(f\"Number of actor freebase IDs on CMU : {len(actor_freebase_id)}\")\n",
    "# import the data loader relative to the actor\n",
    "from src.utils.wikidata_actor_loader import WikiDataActorLoader\n",
    "actor_data_loader = WikiDataActorLoader()\n",
    "# (uncomment to lunch the loading and save the result in a csv)\n",
    "# actor_data_loader.load_wikidata(fileName='src/data/wikidata_actors_not_clean', freebase_IDs=actor_freebase_id)\n",
    "# (uncomment to clean the data retrived previously and save them ionto a new csv file.)\n",
    "# actor_data_loader.clean_file_data(fileName='src/data/wikidata_actors_not_clean.csv', newFileName='src/data/wikidata_actors_clean')\n",
    "# load the clean version of wikidata information extracted\n",
    "actor_wikidata = pd.read_csv('src/data/wikidata_actors_clean.csv')\n",
    "print(f\"Number of actor wikidata exctracted : {actor_wikidata.shape[0]}\")\n",
    "actor_wikidata.head(10)\n"
   ],
   "outputs": [
    {
     "name": "stdout",
     "output_type": "stream",
     "text": [
      "Number of actor freebase IDs on CMU : 135761\n",
      "Number of actor wikidata exctracted : 52806\n"
     ]
    },
    {
     "data": {
      "text/plain": [
       "                                    actor          actorLabel  \\\n",
       "0  http://www.wikidata.org/entity/Q173637            Ice Cube   \n",
       "1  http://www.wikidata.org/entity/Q175900          Meiko Kaji   \n",
       "2  http://www.wikidata.org/entity/Q181819       Fredric March   \n",
       "3  http://www.wikidata.org/entity/Q185051  Christopher Walken   \n",
       "4   http://www.wikidata.org/entity/Q67881      Hanns Zischler   \n",
       "5   http://www.wikidata.org/entity/Q68054    Gudrun Landgrebe   \n",
       "6  http://www.wikidata.org/entity/Q136646          ZaSu Pitts   \n",
       "7  http://www.wikidata.org/entity/Q169963       Jason Statham   \n",
       "8  http://www.wikidata.org/entity/Q186757          Seth Green   \n",
       "9  http://www.wikidata.org/entity/Q188772        Willem Dafoe   \n",
       "\n",
       "             birth_date            death_date  gender    imdb_id freebase_id  \\\n",
       "0  1969-06-15T00:00:00Z                   NaN    male  nm0001084  /m/01vw26l   \n",
       "1  1947-03-24T00:00:00Z                   NaN  female  nm0435299   /m/0576kw   \n",
       "2  1897-08-31T00:00:00Z  1975-04-14T00:00:00Z    male  nm0545298    /m/0h1_w   \n",
       "3  1943-03-31T00:00:00Z                   NaN    male  nm0000686   /m/016fjj   \n",
       "4  1947-06-18T00:00:00Z                   NaN    male  nm0957193   /m/09k3x_   \n",
       "5  1950-06-20T00:00:00Z                   NaN  female  nm0484727   /m/09d6hv   \n",
       "6  1894-01-03T00:00:00Z  1963-06-07T00:00:00Z  female  nm0686032   /m/01lr4p   \n",
       "7  1967-07-26T00:00:00Z                   NaN    male  nm0005458   /m/034hyc   \n",
       "8  1974-02-08T00:00:00Z                   NaN    male  nm0001293   /m/0gz5hs   \n",
       "9  1955-07-22T00:00:00Z                   NaN    male  nm0000353   /m/01f7dd   \n",
       "\n",
       "          nationality                                         occupation  \\\n",
       "0   ['United States']  ['rapper', 'songwriter', 'record producer', 't...   \n",
       "1           ['Japan']                    ['musician', 'singer', 'actor']   \n",
       "2   ['United States']  ['film actor', 'television actor', 'character ...   \n",
       "3   ['United States']  ['film actor', 'television actor', 'model', 'd...   \n",
       "4         ['Germany']  ['essayist', 'film actor', 'television actor',...   \n",
       "5         ['Germany']             ['film actor', 'stage actor', 'actor']   \n",
       "6   ['United States']  ['film actor', 'television actor', 'stage acto...   \n",
       "7  ['United Kingdom']  ['competitive diver', 'kickboxer', 'martial ar...   \n",
       "8   ['United States']  ['television writer', 'film actor', 'televisio...   \n",
       "9   ['United States']  ['film actor', 'model', 'film producer', 'stag...   \n",
       "\n",
       "                                 spouse                children  \\\n",
       "0                                    []  [\"O'Shea Jackson Jr.\"]   \n",
       "1                                    []                      []   \n",
       "2  ['Ellis Baker', 'Florence Eldridge']                      []   \n",
       "3                 ['Georgianne Walken']                      []   \n",
       "4                                    []                      []   \n",
       "5                                    []                      []   \n",
       "6                       ['Tom Gallery']                      []   \n",
       "7                                    []                      []   \n",
       "8                       ['Clare Grant']                      []   \n",
       "9                  ['Giada Colagrande']                      []   \n",
       "\n",
       "                                          alma_mater  \\\n",
       "0  ['William Howard Taft Charter High School', 'W...   \n",
       "1                                                 []   \n",
       "2  ['Washington Park High School', 'University of...   \n",
       "3  ['Hofstra University', \"Professional Children'...   \n",
       "4                                                 []   \n",
       "5                    ['Schauspielschule Der Keller']   \n",
       "6                         ['Santa Cruz High School']   \n",
       "7                                                 []   \n",
       "8                                                 []   \n",
       "9  ['University of Wisconsin–Milwaukee', 'Appleto...   \n",
       "\n",
       "                                      award_received wikidata_id  \n",
       "0  ['star on Hollywood Walk of Fame', 'Ice Cube I...     Q173637  \n",
       "1  ['Mainichi Film Award for Best Actress', 'Blue...     Q175900  \n",
       "2  ['star on Hollywood Walk of Fame', 'Tony Award...     Q181819  \n",
       "3  ['Sitges Grand Honorary Award', 'Theatre World...     Q185051  \n",
       "4  ['Cross of the Order of Merit of the Federal R...      Q67881  \n",
       "5                                  ['Askania Award']      Q68054  \n",
       "6                 ['star on Hollywood Walk of Fame']     Q136646  \n",
       "7                                                 []     Q169963  \n",
       "8                                                 []     Q186757  \n",
       "9  [\"Romics d'Oro\", 'Volpi Cup for Best Actor', '...     Q188772  "
      ],
      "text/html": [
       "<div>\n",
       "<style scoped>\n",
       "    .dataframe tbody tr th:only-of-type {\n",
       "        vertical-align: middle;\n",
       "    }\n",
       "\n",
       "    .dataframe tbody tr th {\n",
       "        vertical-align: top;\n",
       "    }\n",
       "\n",
       "    .dataframe thead th {\n",
       "        text-align: right;\n",
       "    }\n",
       "</style>\n",
       "<table border=\"1\" class=\"dataframe\">\n",
       "  <thead>\n",
       "    <tr style=\"text-align: right;\">\n",
       "      <th></th>\n",
       "      <th>actor</th>\n",
       "      <th>actorLabel</th>\n",
       "      <th>birth_date</th>\n",
       "      <th>death_date</th>\n",
       "      <th>gender</th>\n",
       "      <th>imdb_id</th>\n",
       "      <th>freebase_id</th>\n",
       "      <th>nationality</th>\n",
       "      <th>occupation</th>\n",
       "      <th>spouse</th>\n",
       "      <th>children</th>\n",
       "      <th>alma_mater</th>\n",
       "      <th>award_received</th>\n",
       "      <th>wikidata_id</th>\n",
       "    </tr>\n",
       "  </thead>\n",
       "  <tbody>\n",
       "    <tr>\n",
       "      <th>0</th>\n",
       "      <td>http://www.wikidata.org/entity/Q173637</td>\n",
       "      <td>Ice Cube</td>\n",
       "      <td>1969-06-15T00:00:00Z</td>\n",
       "      <td>NaN</td>\n",
       "      <td>male</td>\n",
       "      <td>nm0001084</td>\n",
       "      <td>/m/01vw26l</td>\n",
       "      <td>['United States']</td>\n",
       "      <td>['rapper', 'songwriter', 'record producer', 't...</td>\n",
       "      <td>[]</td>\n",
       "      <td>[\"O'Shea Jackson Jr.\"]</td>\n",
       "      <td>['William Howard Taft Charter High School', 'W...</td>\n",
       "      <td>['star on Hollywood Walk of Fame', 'Ice Cube I...</td>\n",
       "      <td>Q173637</td>\n",
       "    </tr>\n",
       "    <tr>\n",
       "      <th>1</th>\n",
       "      <td>http://www.wikidata.org/entity/Q175900</td>\n",
       "      <td>Meiko Kaji</td>\n",
       "      <td>1947-03-24T00:00:00Z</td>\n",
       "      <td>NaN</td>\n",
       "      <td>female</td>\n",
       "      <td>nm0435299</td>\n",
       "      <td>/m/0576kw</td>\n",
       "      <td>['Japan']</td>\n",
       "      <td>['musician', 'singer', 'actor']</td>\n",
       "      <td>[]</td>\n",
       "      <td>[]</td>\n",
       "      <td>[]</td>\n",
       "      <td>['Mainichi Film Award for Best Actress', 'Blue...</td>\n",
       "      <td>Q175900</td>\n",
       "    </tr>\n",
       "    <tr>\n",
       "      <th>2</th>\n",
       "      <td>http://www.wikidata.org/entity/Q181819</td>\n",
       "      <td>Fredric March</td>\n",
       "      <td>1897-08-31T00:00:00Z</td>\n",
       "      <td>1975-04-14T00:00:00Z</td>\n",
       "      <td>male</td>\n",
       "      <td>nm0545298</td>\n",
       "      <td>/m/0h1_w</td>\n",
       "      <td>['United States']</td>\n",
       "      <td>['film actor', 'television actor', 'character ...</td>\n",
       "      <td>['Ellis Baker', 'Florence Eldridge']</td>\n",
       "      <td>[]</td>\n",
       "      <td>['Washington Park High School', 'University of...</td>\n",
       "      <td>['star on Hollywood Walk of Fame', 'Tony Award...</td>\n",
       "      <td>Q181819</td>\n",
       "    </tr>\n",
       "    <tr>\n",
       "      <th>3</th>\n",
       "      <td>http://www.wikidata.org/entity/Q185051</td>\n",
       "      <td>Christopher Walken</td>\n",
       "      <td>1943-03-31T00:00:00Z</td>\n",
       "      <td>NaN</td>\n",
       "      <td>male</td>\n",
       "      <td>nm0000686</td>\n",
       "      <td>/m/016fjj</td>\n",
       "      <td>['United States']</td>\n",
       "      <td>['film actor', 'television actor', 'model', 'd...</td>\n",
       "      <td>['Georgianne Walken']</td>\n",
       "      <td>[]</td>\n",
       "      <td>['Hofstra University', \"Professional Children'...</td>\n",
       "      <td>['Sitges Grand Honorary Award', 'Theatre World...</td>\n",
       "      <td>Q185051</td>\n",
       "    </tr>\n",
       "    <tr>\n",
       "      <th>4</th>\n",
       "      <td>http://www.wikidata.org/entity/Q67881</td>\n",
       "      <td>Hanns Zischler</td>\n",
       "      <td>1947-06-18T00:00:00Z</td>\n",
       "      <td>NaN</td>\n",
       "      <td>male</td>\n",
       "      <td>nm0957193</td>\n",
       "      <td>/m/09k3x_</td>\n",
       "      <td>['Germany']</td>\n",
       "      <td>['essayist', 'film actor', 'television actor',...</td>\n",
       "      <td>[]</td>\n",
       "      <td>[]</td>\n",
       "      <td>[]</td>\n",
       "      <td>['Cross of the Order of Merit of the Federal R...</td>\n",
       "      <td>Q67881</td>\n",
       "    </tr>\n",
       "    <tr>\n",
       "      <th>5</th>\n",
       "      <td>http://www.wikidata.org/entity/Q68054</td>\n",
       "      <td>Gudrun Landgrebe</td>\n",
       "      <td>1950-06-20T00:00:00Z</td>\n",
       "      <td>NaN</td>\n",
       "      <td>female</td>\n",
       "      <td>nm0484727</td>\n",
       "      <td>/m/09d6hv</td>\n",
       "      <td>['Germany']</td>\n",
       "      <td>['film actor', 'stage actor', 'actor']</td>\n",
       "      <td>[]</td>\n",
       "      <td>[]</td>\n",
       "      <td>['Schauspielschule Der Keller']</td>\n",
       "      <td>['Askania Award']</td>\n",
       "      <td>Q68054</td>\n",
       "    </tr>\n",
       "    <tr>\n",
       "      <th>6</th>\n",
       "      <td>http://www.wikidata.org/entity/Q136646</td>\n",
       "      <td>ZaSu Pitts</td>\n",
       "      <td>1894-01-03T00:00:00Z</td>\n",
       "      <td>1963-06-07T00:00:00Z</td>\n",
       "      <td>female</td>\n",
       "      <td>nm0686032</td>\n",
       "      <td>/m/01lr4p</td>\n",
       "      <td>['United States']</td>\n",
       "      <td>['film actor', 'television actor', 'stage acto...</td>\n",
       "      <td>['Tom Gallery']</td>\n",
       "      <td>[]</td>\n",
       "      <td>['Santa Cruz High School']</td>\n",
       "      <td>['star on Hollywood Walk of Fame']</td>\n",
       "      <td>Q136646</td>\n",
       "    </tr>\n",
       "    <tr>\n",
       "      <th>7</th>\n",
       "      <td>http://www.wikidata.org/entity/Q169963</td>\n",
       "      <td>Jason Statham</td>\n",
       "      <td>1967-07-26T00:00:00Z</td>\n",
       "      <td>NaN</td>\n",
       "      <td>male</td>\n",
       "      <td>nm0005458</td>\n",
       "      <td>/m/034hyc</td>\n",
       "      <td>['United Kingdom']</td>\n",
       "      <td>['competitive diver', 'kickboxer', 'martial ar...</td>\n",
       "      <td>[]</td>\n",
       "      <td>[]</td>\n",
       "      <td>[]</td>\n",
       "      <td>[]</td>\n",
       "      <td>Q169963</td>\n",
       "    </tr>\n",
       "    <tr>\n",
       "      <th>8</th>\n",
       "      <td>http://www.wikidata.org/entity/Q186757</td>\n",
       "      <td>Seth Green</td>\n",
       "      <td>1974-02-08T00:00:00Z</td>\n",
       "      <td>NaN</td>\n",
       "      <td>male</td>\n",
       "      <td>nm0001293</td>\n",
       "      <td>/m/0gz5hs</td>\n",
       "      <td>['United States']</td>\n",
       "      <td>['television writer', 'film actor', 'televisio...</td>\n",
       "      <td>['Clare Grant']</td>\n",
       "      <td>[]</td>\n",
       "      <td>[]</td>\n",
       "      <td>[]</td>\n",
       "      <td>Q186757</td>\n",
       "    </tr>\n",
       "    <tr>\n",
       "      <th>9</th>\n",
       "      <td>http://www.wikidata.org/entity/Q188772</td>\n",
       "      <td>Willem Dafoe</td>\n",
       "      <td>1955-07-22T00:00:00Z</td>\n",
       "      <td>NaN</td>\n",
       "      <td>male</td>\n",
       "      <td>nm0000353</td>\n",
       "      <td>/m/01f7dd</td>\n",
       "      <td>['United States']</td>\n",
       "      <td>['film actor', 'model', 'film producer', 'stag...</td>\n",
       "      <td>['Giada Colagrande']</td>\n",
       "      <td>[]</td>\n",
       "      <td>['University of Wisconsin–Milwaukee', 'Appleto...</td>\n",
       "      <td>[\"Romics d'Oro\", 'Volpi Cup for Best Actor', '...</td>\n",
       "      <td>Q188772</td>\n",
       "    </tr>\n",
       "  </tbody>\n",
       "</table>\n",
       "</div>"
      ]
     },
     "execution_count": 132,
     "metadata": {},
     "output_type": "execute_result"
    }
   ],
   "execution_count": 132
  },
  {
   "cell_type": "markdown",
   "id": "57e6ec47",
   "metadata": {},
   "source": [
    "The ocupation field for each actor can be used to answer Q1, the graph bellow show the distrubutions of the actor occupations."
   ]
  },
  {
   "cell_type": "code",
   "id": "9a07638d",
   "metadata": {
    "ExecuteTime": {
     "end_time": "2024-11-15T15:06:32.182103Z",
     "start_time": "2024-11-15T15:06:30.786892Z"
    }
   },
   "source": [
    "# convert occupation to list\n",
    "actor_wikidata['occupation'] = actor_wikidata['occupation'].apply(ast.literal_eval)\n",
    "\n",
    "# retrive all the actor's occupation and count their occurences\n",
    "occupations_lst = [occupation for interOccupationLst in actor_wikidata['occupation'].dropna() for occupation in interOccupationLst]\n",
    "occupation_count = Counter(occupations_lst)\n",
    "\n",
    "# create a dataframe to create the graph\n",
    "df_actor_occupation = pd.DataFrame(occupation_count.items(), columns=['Occupation', 'Count'])\n",
    "# sortby count and only select the first 20 items for readibility of the graph\n",
    "df_actor_occupation = df_actor_occupation.sort_values(by='Count', ascending=False).head(20)\n",
    "\n",
    "# constrcut the graph \n",
    "plt.barh(df_actor_occupation['Occupation'], df_actor_occupation['Count'], color='skyblue')\n",
    "plt.xlabel('Number of Actors')\n",
    "plt.ylabel('Occupations')\n",
    "plt.title('Distribution of the top 20 Actor Occupations')\n",
    "plt.show()"
   ],
   "outputs": [
    {
     "data": {
      "text/plain": [
       "<Figure size 640x480 with 1 Axes>"
      ],
      "image/png": "[encoded data removed]"
     },
     "metadata": {},
     "output_type": "display_data"
    }
   ],
   "execution_count": 133
  },
  {
   "cell_type": "markdown",
   "id": "214c0b6d",
   "metadata": {},
   "source": [
    "We also create a util `wikidata_actor_loader`to retrieve all the characters information if a character is present on the wikidata dataset with his freebase ID defined. "
   ]
  },
  {
   "cell_type": "code",
   "id": "276862ac",
   "metadata": {
    "ExecuteTime": {
     "end_time": "2024-11-15T15:06:32.361254Z",
     "start_time": "2024-11-15T15:06:32.273940Z"
    }
   },
   "source": [
    "# extract the list of character's freebase id and drop the duplicates\n",
    "character_freebase_id = df_character_usefull['Freebase character ID'].drop_duplicates()\n",
    "print(f\"Number of character freebase IDs on CMU : {len(character_freebase_id)}\")\n",
    "# import the data loader relative to the character\n",
    "from src.utils.wikidata_character_loader import WikiDataCharacterLoader\n",
    "character_data_loader = WikiDataActorLoader()\n",
    "# (uncomment to lunch the loading and save the result in a csv)\n",
    "# character_data_loader.load_wikidata(fileName='src/data/wikidata_characters_not_clean', freebase_IDs=character_freebase_id)\n",
    "# (uncomment to clean the data retrieved previously and save them into a new csv file.)\n",
    "#character_data_loader.clean_file_data(fileName='src/data/wikidata_characters_not_clean.csv', newFileName='src/data/wikidata_characters_clean')\n",
    "# load the clean version of wikidata information extracted\n",
    "character_wikidata = pd.read_csv('src/data/wikidata_characters_clean.csv')\n",
    "print(f\"Number of characters wikidata exctracted : {character_wikidata.shape[0]}\")\n",
    "character_wikidata.head(10)"
   ],
   "outputs": [
    {
     "name": "stdout",
     "output_type": "stream",
     "text": [
      "Number of character freebase IDs on CMU : 183436\n",
      "Number of characters wikidata exctracted : 2873\n"
     ]
    },
    {
     "data": {
      "text/plain": [
       "                                  character     characterLabel freebase_id  \\\n",
       "0   http://www.wikidata.org/entity/Q2975734        Keyser Söze   /m/03z0qw   \n",
       "1    http://www.wikidata.org/entity/Q694790         Lex Luthor    /m/04q78   \n",
       "2    http://www.wikidata.org/entity/Q867810         Clark Kent    /m/02362   \n",
       "3   http://www.wikidata.org/entity/Q1033152            RoboCop   /m/0h3w0g   \n",
       "4   http://www.wikidata.org/entity/Q2260732        General Zod   /m/03jlpc   \n",
       "5  http://www.wikidata.org/entity/Q58363586           narrator   /m/0147fv   \n",
       "6     http://www.wikidata.org/entity/Q79015           Superman    /m/070vn   \n",
       "7    http://www.wikidata.org/entity/Q122018  Sinbad the Sailor   /m/01rry2   \n",
       "8    http://www.wikidata.org/entity/Q319918         Daffy Duck    /m/0dng4   \n",
       "9    http://www.wikidata.org/entity/Q845922          Lois Lane    /m/04pzy   \n",
       "\n",
       "                                          occupation  \\\n",
       "0     ['drug trafficker', 'drug lord', 'con artist']   \n",
       "1  ['philanthropist', 'mass murderer', 'drug traf...   \n",
       "2                                       ['reporter']   \n",
       "3                                 ['police officer']   \n",
       "4                              ['soldier', 'leader']   \n",
       "5                                                NaN   \n",
       "6                          ['superhero', 'reporter']   \n",
       "7                                         ['sailor']   \n",
       "8                                                NaN   \n",
       "9                         ['journalist', 'reporter']   \n",
       "\n",
       "                                         affiliation  \\\n",
       "0                                                NaN   \n",
       "1  ['Intergang', 'Injustice League', 'LCorp', 'Se...   \n",
       "2                     ['Daily Star', 'Daily Planet']   \n",
       "3                                                NaN   \n",
       "4        ['Superman Revenge Squad', 'Suicide Squad']   \n",
       "5                                                NaN   \n",
       "6  ['Supermen of America', 'Black Lantern Corps',...   \n",
       "7                                                NaN   \n",
       "8                                                NaN   \n",
       "9                                   ['Daily Planet']   \n",
       "\n",
       "                                              allies wikidata_id  \n",
       "0                                                NaN    Q2975734  \n",
       "1  ['Lex Luthor', 'Jr.', 'Jaxon Xavier', 'Conner ...     Q694790  \n",
       "2                                                NaN     Q867810  \n",
       "3                                                NaN    Q1033152  \n",
       "4                                     ['Chris Kent']    Q2260732  \n",
       "5                                                NaN   Q58363586  \n",
       "6                        ['Jon Kent', 'Conner Kent']      Q79015  \n",
       "7                                                NaN     Q122018  \n",
       "8                                                NaN     Q319918  \n",
       "9                         ['Chris Kent', 'Jon Kent']     Q845922  "
      ],
      "text/html": [
       "<div>\n",
       "<style scoped>\n",
       "    .dataframe tbody tr th:only-of-type {\n",
       "        vertical-align: middle;\n",
       "    }\n",
       "\n",
       "    .dataframe tbody tr th {\n",
       "        vertical-align: top;\n",
       "    }\n",
       "\n",
       "    .dataframe thead th {\n",
       "        text-align: right;\n",
       "    }\n",
       "</style>\n",
       "<table border=\"1\" class=\"dataframe\">\n",
       "  <thead>\n",
       "    <tr style=\"text-align: right;\">\n",
       "      <th></th>\n",
       "      <th>character</th>\n",
       "      <th>characterLabel</th>\n",
       "      <th>freebase_id</th>\n",
       "      <th>occupation</th>\n",
       "      <th>affiliation</th>\n",
       "      <th>allies</th>\n",
       "      <th>wikidata_id</th>\n",
       "    </tr>\n",
       "  </thead>\n",
       "  <tbody>\n",
       "    <tr>\n",
       "      <th>0</th>\n",
       "      <td>http://www.wikidata.org/entity/Q2975734</td>\n",
       "      <td>Keyser Söze</td>\n",
       "      <td>/m/03z0qw</td>\n",
       "      <td>['drug trafficker', 'drug lord', 'con artist']</td>\n",
       "      <td>NaN</td>\n",
       "      <td>NaN</td>\n",
       "      <td>Q2975734</td>\n",
       "    </tr>\n",
       "    <tr>\n",
       "      <th>1</th>\n",
       "      <td>http://www.wikidata.org/entity/Q694790</td>\n",
       "      <td>Lex Luthor</td>\n",
       "      <td>/m/04q78</td>\n",
       "      <td>['philanthropist', 'mass murderer', 'drug traf...</td>\n",
       "      <td>['Intergang', 'Injustice League', 'LCorp', 'Se...</td>\n",
       "      <td>['Lex Luthor', 'Jr.', 'Jaxon Xavier', 'Conner ...</td>\n",
       "      <td>Q694790</td>\n",
       "    </tr>\n",
       "    <tr>\n",
       "      <th>2</th>\n",
       "      <td>http://www.wikidata.org/entity/Q867810</td>\n",
       "      <td>Clark Kent</td>\n",
       "      <td>/m/02362</td>\n",
       "      <td>['reporter']</td>\n",
       "      <td>['Daily Star', 'Daily Planet']</td>\n",
       "      <td>NaN</td>\n",
       "      <td>Q867810</td>\n",
       "    </tr>\n",
       "    <tr>\n",
       "      <th>3</th>\n",
       "      <td>http://www.wikidata.org/entity/Q1033152</td>\n",
       "      <td>RoboCop</td>\n",
       "      <td>/m/0h3w0g</td>\n",
       "      <td>['police officer']</td>\n",
       "      <td>NaN</td>\n",
       "      <td>NaN</td>\n",
       "      <td>Q1033152</td>\n",
       "    </tr>\n",
       "    <tr>\n",
       "      <th>4</th>\n",
       "      <td>http://www.wikidata.org/entity/Q2260732</td>\n",
       "      <td>General Zod</td>\n",
       "      <td>/m/03jlpc</td>\n",
       "      <td>['soldier', 'leader']</td>\n",
       "      <td>['Superman Revenge Squad', 'Suicide Squad']</td>\n",
       "      <td>['Chris Kent']</td>\n",
       "      <td>Q2260732</td>\n",
       "    </tr>\n",
       "    <tr>\n",
       "      <th>5</th>\n",
       "      <td>http://www.wikidata.org/entity/Q58363586</td>\n",
       "      <td>narrator</td>\n",
       "      <td>/m/0147fv</td>\n",
       "      <td>NaN</td>\n",
       "      <td>NaN</td>\n",
       "      <td>NaN</td>\n",
       "      <td>Q58363586</td>\n",
       "    </tr>\n",
       "    <tr>\n",
       "      <th>6</th>\n",
       "      <td>http://www.wikidata.org/entity/Q79015</td>\n",
       "      <td>Superman</td>\n",
       "      <td>/m/070vn</td>\n",
       "      <td>['superhero', 'reporter']</td>\n",
       "      <td>['Supermen of America', 'Black Lantern Corps',...</td>\n",
       "      <td>['Jon Kent', 'Conner Kent']</td>\n",
       "      <td>Q79015</td>\n",
       "    </tr>\n",
       "    <tr>\n",
       "      <th>7</th>\n",
       "      <td>http://www.wikidata.org/entity/Q122018</td>\n",
       "      <td>Sinbad the Sailor</td>\n",
       "      <td>/m/01rry2</td>\n",
       "      <td>['sailor']</td>\n",
       "      <td>NaN</td>\n",
       "      <td>NaN</td>\n",
       "      <td>Q122018</td>\n",
       "    </tr>\n",
       "    <tr>\n",
       "      <th>8</th>\n",
       "      <td>http://www.wikidata.org/entity/Q319918</td>\n",
       "      <td>Daffy Duck</td>\n",
       "      <td>/m/0dng4</td>\n",
       "      <td>NaN</td>\n",
       "      <td>NaN</td>\n",
       "      <td>NaN</td>\n",
       "      <td>Q319918</td>\n",
       "    </tr>\n",
       "    <tr>\n",
       "      <th>9</th>\n",
       "      <td>http://www.wikidata.org/entity/Q845922</td>\n",
       "      <td>Lois Lane</td>\n",
       "      <td>/m/04pzy</td>\n",
       "      <td>['journalist', 'reporter']</td>\n",
       "      <td>['Daily Planet']</td>\n",
       "      <td>['Chris Kent', 'Jon Kent']</td>\n",
       "      <td>Q845922</td>\n",
       "    </tr>\n",
       "  </tbody>\n",
       "</table>\n",
       "</div>"
      ]
     },
     "execution_count": 134,
     "metadata": {},
     "output_type": "execute_result"
    }
   ],
   "execution_count": 134
  },
  {
   "cell_type": "markdown",
   "id": "c93e7224",
   "metadata": {},
   "source": [
    "We can see that not a lot of character have wikidata information, so at this step we are not sure to use the character wikidata dataset in our analysis. But to answer to Q1, we can use the occupation field of this dataset. The graph bellow show the occupation(role) of the character in a film."
   ]
  },
  {
   "cell_type": "code",
   "id": "c09f6d82",
   "metadata": {
    "ExecuteTime": {
     "end_time": "2024-11-15T15:06:32.949194Z",
     "start_time": "2024-11-15T15:06:32.506544Z"
    }
   },
   "source": [
    "# convert character's occupations(role) to list\n",
    "character_wikidata['occupation'] = character_wikidata['occupation'].dropna().apply(ast.literal_eval)\n",
    "\n",
    "# retrive all the character's occupation and count their occurences\n",
    "occupations_lst = [occupation for interOccupationLst in character_wikidata['occupation'].dropna() for occupation in interOccupationLst]\n",
    "occupation_count = Counter(occupations_lst)\n",
    "\n",
    "# create a dataframe to create the graph\n",
    "df_character_occupation = pd.DataFrame(occupation_count.items(), columns=['Occupation', 'Count'])\n",
    "# sortby count and only select the first 20 items for readibility of the graph\n",
    "df_character_occupation = df_character_occupation.sort_values(by='Count', ascending=False).head(20)\n",
    "\n",
    "# constrcut the graph \n",
    "plt.barh(df_character_occupation['Occupation'], df_character_occupation['Count'], color='skyblue')\n",
    "plt.xlabel('Number of Characters')\n",
    "plt.ylabel('Occupations (roles)')\n",
    "plt.title('Distribution of the top 20 Characters Occupations')\n",
    "plt.show()"
   ],
   "outputs": [
    {
     "data": {
      "text/plain": [
       "<Figure size 640x480 with 1 Axes>"
      ],
      "image/png": "[encoded data removed]"
     },
     "metadata": {},
     "output_type": "display_data"
    }
   ],
   "execution_count": 135
  },
  {
   "metadata": {},
   "cell_type": "markdown",
   "source": "## Q2",
   "id": "b9968a9ee70c5cf4"
  },
  {
   "metadata": {},
   "cell_type": "markdown",
   "source": "### Family environment",
   "id": "2283cbed60f4eb31"
  },
  {
   "metadata": {
    "ExecuteTime": {
     "end_time": "2024-11-15T15:06:38.791947Z",
     "start_time": "2024-11-15T15:06:33.732964Z"
    }
   },
   "cell_type": "code",
   "source": [
    "# trabsform the string of the columns of chiuldren and spouses into array.\n",
    "actor_wikidata['spouse'] = actor_wikidata['spouse'].apply(ast.literal_eval)\n",
    "actor_wikidata['children'] = actor_wikidata['children'].apply(ast.literal_eval)\n",
    "\n",
    "# construct the object retrive to find the parent list of each actor.\n",
    "from src.utils.retrieve_parents_from_children import ParentsFromChildrenRetriever\n",
    "parentRetriever = ParentsFromChildrenRetriever(actor_wikidata=actor_wikidata)\n",
    "\n",
    "# for each actor, retrieve the list of parents (who are also actor)\n",
    "actor_wikidata['parents'] = actor_wikidata['actorLabel'].apply(parentRetriever.find_parents_for_child_actor_name)\n",
    "\n",
    "# Visualize the results\n",
    "\n",
    "# calculate the number of parent (who are also actor) for each actor \n",
    "actor_wikidata['number_actor_parents'] = actor_wikidata['parents'].apply(len)\n",
    "number_of_parents = actor_wikidata['number_actor_parents'].value_counts().sort_index()\n",
    "# only take into account the actor with at least one parent\n",
    "number_of_parents = number_of_parents[number_of_parents.index > 0]\n",
    "\n",
    "plt.bar(number_of_parents.index, number_of_parents.values, color='red')\n",
    "plt.title('Distribution of Number of Parents (who are also actor) for Each Actor')\n",
    "plt.xlabel('Number of Parents also actor')\n",
    "plt.ylabel('Number of Actors')\n",
    "plt.xticks([1,2])\n",
    "plt.show()\n"
   ],
   "id": "d3cc393dba3a9433",
   "outputs": [
    {
     "data": {
      "text/plain": [
       "<Figure size 640x480 with 1 Axes>"
      ],
      "image/png": "[encoded data removed]"
     },
     "metadata": {},
     "output_type": "display_data"
    }
   ],
   "execution_count": 136
  },
  {
   "metadata": {
    "ExecuteTime": {
     "end_time": "2024-11-15T15:06:55.631197Z",
     "start_time": "2024-11-15T15:06:38.813Z"
    }
   },
   "cell_type": "code",
   "source": [
    "# calculate for each actor the number of spouses which is alos an actor\n",
    "actor_wikidata['number_spouse_also_actor'] = actor_wikidata['spouse'].apply(lambda spouseLst: sum(1 for elem in spouseLst if elem in actor_wikidata['actorLabel'].values))\n",
    "\n",
    "# visualize the results\n",
    "number_of_spouses = actor_wikidata['number_spouse_also_actor'].value_counts().sort_index()\n",
    "# only take into account the actor with at one souse as actor\n",
    "number_of_spouses = number_of_spouses[number_of_spouses.index > 0]\n",
    "\n",
    "plt.bar(number_of_spouses.index, number_of_spouses.values, color='red')\n",
    "plt.title('Distribution of Number of Spuses (who are also actor) for Each Actor')\n",
    "plt.xlabel('Number of Spouses also actor')\n",
    "plt.ylabel('Number of Actors')\n",
    "plt.xticks([1,2])\n",
    "plt.show()\n"
   ],
   "id": "57d3efb8c8426d52",
   "outputs": [
    {
     "data": {
      "text/plain": [
       "<Figure size 640x480 with 1 Axes>"
      ],
      "image/png": "[encoded data removed]"
     },
     "metadata": {},
     "output_type": "display_data"
    }
   ],
   "execution_count": 137
  },
  {
   "metadata": {},
   "cell_type": "markdown",
   "source": "### Academic background",
   "id": "bd11c4c171ba5a3"
  },
  {
   "metadata": {
    "ExecuteTime": {
     "end_time": "2024-11-15T15:06:56.485Z",
     "start_time": "2024-11-15T15:06:55.723422Z"
    }
   },
   "cell_type": "code",
   "source": [
    "# flatten the list of all universities present on each actor row\n",
    "universitiesLst = [university for actorUniversityLst in actor_wikidata['alma_mater'].apply(ast.literal_eval) for university in set(actorUniversityLst)] # make each university unique for each actor\n",
    "\n",
    "# count the occurence of each university\n",
    "universityCount = Counter(universitiesLst)\n",
    "\n",
    "print(len(universityCount))\n",
    "\n",
    "# visualize the results\n",
    "df_university_count = pd.DataFrame(universityCount.items(), columns=['university_name', 'number_of_actors'])\n",
    "# sort the results and select only the top 20\n",
    "df_university_count = df_university_count.sort_values(by=['number_of_actors'], ascending=False).head(10)\n",
    "\n",
    "plt.barh(df_university_count['university_name'], df_university_count['number_of_actors'], color='blue')\n",
    "plt.xlabel('Number of Actors')\n",
    "plt.ylabel('University Name')\n",
    "plt.title('Top 20 Universities with the Most Actor Attendees')\n",
    "plt.show()\n"
   ],
   "id": "70d44ec64521d8c2",
   "outputs": [
    {
     "name": "stdout",
     "output_type": "stream",
     "text": [
      "8659\n"
     ]
    },
    {
     "data": {
      "text/plain": [
       "<Figure size 640x480 with 1 Axes>"
      ],
      "image/png": "[encoded data removed]"
     },
     "metadata": {},
     "output_type": "display_data"
    }
   ],
   "execution_count": 138
  },
  {
   "metadata": {},
   "cell_type": "markdown",
   "source": "### Nationality\n",
   "id": "eae878dbe33cbc4b"
  }
 ],
 "metadata": {
  "kernelspec": {
   "display_name": "ada",
   "language": "python",
   "name": "python3"
  },
  "language_info": {
   "codemirror_mode": {
    "name": "ipython",
    "version": 3
   },
   "file_extension": ".py",
   "mimetype": "text/x-python",
   "name": "python",
   "nbconvert_exporter": "python",
   "pygments_lexer": "ipython3",
   "version": "3.11.9"
  }
 },
 "nbformat": 5,
 "nbformat_minor": 9
}
